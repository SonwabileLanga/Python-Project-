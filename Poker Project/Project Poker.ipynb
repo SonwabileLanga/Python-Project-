{
 "cells": [
  {
   "cell_type": "markdown",
   "metadata": {
    "colab_type": "text",
    "id": "Y-iHJCekZ47N"
   },
   "source": [
    "# Project: Poker\n",
    "\n",
    "You're appointed as a Software Developer at a new Python Casino in the Magaliesberg mountains.\n",
    "\n",
    "Your first task is to build a Poker game in Python!"
   ]
  },
  {
   "cell_type": "markdown",
   "metadata": {
    "colab_type": "text",
    "id": "4OBoq2YHkZjj"
   },
   "source": [
    "***\n",
    "*** CODE OF CONDUCT: ***\n",
    "\n",
    "- You may use online resources for help, but you may not directly copy and paste any answers that are not your own.\n",
    "- You may not submit anyone else's work, but your own.\n",
    "- Every project will be sent through plagiarism detection software, and compared with every other project in the class.  If you are suspected of plagiarism you will receive zero for the assignment, together with a first disciplinary warning.\n",
    "\n",
    "***\n",
    "*** PROJECT RULES: ***\n",
    "\n",
    "- You may not import any external packages - all of the functions need to be solved ***WITHOUT THE USE OF EXTERNAL MODULES***.\n",
    "- ***Most importantly:*** your functions need to **`return`** the answer (not just print it out).\n",
    "- ***Do not add or remove any cells from this notebook***.  Use another notebook to experiment in (or in which to do your workings), but your submission may not have any additional cells or functions. \n",
    "- Only fill in code where the **`#YOUR CODE`**  tags appear. No code outside these areas (or outside the given functions) will be marked.\n",
    "\n"
   ]
  },
  {
   "cell_type": "markdown",
   "metadata": {
    "colab_type": "text",
    "id": "TMmeHDJl5NoZ"
   },
   "source": [
    "![playing card deck](https://upload.wikimedia.org/wikipedia/commons/thumb/8/81/English_pattern_playing_cards_deck.svg/1000px-English_pattern_playing_cards_deck.svg.png)\n",
    "\n",
    "## Introduction\n",
    "A deck of playing cards typically has a **`suit`** and a **`rank`**.\n",
    "The possible values for `suit`s are:"
   ]
  },
  {
   "cell_type": "code",
   "execution_count": 1,
   "metadata": {
    "colab": {
     "autoexec": {
      "startup": false,
      "wait_interval": 0
     }
    },
    "colab_type": "code",
    "id": "NftSG_pP5gew"
   },
   "outputs": [],
   "source": [
    "suits = [\"clubs\", \"diamonds\", \"hearts\", \"spades\"]"
   ]
  },
  {
   "cell_type": "markdown",
   "metadata": {
    "colab_type": "text",
    "id": "zQSn2bqY5kOk"
   },
   "source": [
    "And the possible values for `rank`s (in **order of their strength**) are:"
   ]
  },
  {
   "cell_type": "code",
   "execution_count": 2,
   "metadata": {
    "colab": {
     "autoexec": {
      "startup": false,
      "wait_interval": 0
     }
    },
    "colab_type": "code",
    "id": "nkHx467f5j5Q"
   },
   "outputs": [],
   "source": [
    "ranks = [\"2\", \"3\", \"4\", \"5\", \"6\", \"7\", \"8\", \"9\", \"10\", \"jack\", \"queen\", \"king\", \"ace\"]"
   ]
  },
  {
   "cell_type": "markdown",
   "metadata": {
    "colab_type": "text",
    "id": "2ejaKHQH59B0"
   },
   "source": [
    "*** IMPORTANT: ***\n",
    "Note the order and spelling of the above suits and ranks.  Be consistent and use the spelling (and capitalisation) used above throughout this project."
   ]
  },
  {
   "cell_type": "markdown",
   "metadata": {
    "colab_type": "text",
    "id": "53GUiWszhw9R"
   },
   "source": [
    "## Question 1:  Card `class`\n",
    "\n",
    "Build a Python Class, called **`Card`**, which has:\n",
    "- 2 ***class*** properties (both should be lists of `string`s):\n",
    "  - `suitnames = [\"clubs\", \"diamonds\", \"hearts\", \"spades\"]`\n",
    "  - `ranknames = [\"2\", \"3\", \"4\", \"5\", \"6\", \"7\", \"8\", \"9\", \"10\", \"jack\", \"queen\", \"king\", \"ace\"]`\n",
    "- 2 ***instance*** properties (both should be **`int`**s):\n",
    "  - `suit`, which is a number from 0 to 3:\n",
    "    - 0 representing \"clubs\"\n",
    "    - 1 representing \"diamonds\"\n",
    "    - 2 representing \"hearts\"\n",
    "    - 3 representing \"spades\"\n",
    "  - `rank`, which is a number from 0 to 12, where a value of:\n",
    "    - 2 represents a rank of \"2\"\n",
    "    - 3 represents a rank of \"3\"\n",
    "    - 4 represents a rank of \"4\"\n",
    "    - 5 represents a rank of \"5\"\n",
    "    - 6 represents a rank of \"6\"\n",
    "    - 7 represents a rank of \"7\"\n",
    "    - 8 represents a rank of \"8\"\n",
    "    - 9 represents a rank of \"9\"\n",
    "    - 10 represents a rank of \"10\"\n",
    "    - 11 represents a rank of \"jack\"\n",
    "    - 12 represents a rank of \"queen\"\n",
    "    - 13 represents a rank of \"king\"\n",
    "    - 14 represents a rank of \"ace\"\n",
    "    \n",
    "    Notice that the order coincides with the order of the `ranknames` class property.\n",
    "\n",
    "<br>\n",
    "\n",
    "Your code should be able to do the following:\n",
    "\n",
    "- Override the **`__init__`** method to enable the creation of a **`Card`** instance by calling $ \\ \\ \\ $ **`Card(rank, suit)`** $\\ \\ $ where **`rank`** and **`suit`** are appropriate `int`s.\n",
    "\n",
    "- Override the **`__str__`** method to **`return`** a string in the format:  $ \\ \\ \\ $ **`'rank of suit'`** $ \\ \\ \\ \\ \\ $ (where `rank` and `suit` are the `string` versions of the rank and suit instance properties of the specific `Card` instance - i.e. you need to look up the rank and suit properties from the `suitnames` and `ranknames` class properties). \n",
    "\n",
    "- Override the **`__add__`** method, so that adding two cards together, **`return`**s the sum of the ***`rank`***s of the **`Card`**s being added.\n",
    "\n",
    "- Override the **`__gt__`** method, so that comparing two cards, effectively compares their ***`rank`***.  I.e. a card with rank 2 will always be less than a card with rank 3 (e.g. a queen of hearts > jack of hearts)\n",
    "\n",
    "A rough outline, with the class properties filled in, has been given to help you. Complete the `class` definition to satisfy the contraints above:\n"
   ]
  },
  {
   "cell_type": "code",
   "execution_count": 3,
   "metadata": {
    "colab": {
     "autoexec": {
      "startup": false,
      "wait_interval": 0
     }
    },
    "colab_type": "code",
    "id": "o3HGpkBGZZcN"
   },
   "outputs": [],
   "source": [
    "\n",
    "### START QUESTION 1\n",
    "\n",
    "class Card:\n",
    "  \n",
    "    suitnames = [\"clubs\", \"diamonds\", \"hearts\", \"spades\"]\n",
    "    ranknames = [\"2\", \"3\", \"4\", \"5\", \"6\", \"7\", \"8\", \"9\", \"10\", \"jack\", \"queen\", \"king\", \"ace\"]\n",
    "\n",
    "    ### BEGIN SOLUTION\n",
    "\n",
    "    def __init__(self, rank, suit):\n",
    "        self.rank = rank\n",
    "        self.suit = suit\n",
    "\n",
    "    def __str__(self):\n",
    "        return Card.ranknames[self.rank - 2] + \" of \" + Card.suitnames[self.suit]\n",
    "\n",
    "    def __add__(self, other):\n",
    "        return self.rank + other.rank\n",
    "\n",
    "    def __gt__(self, other):\n",
    "        return self.rank > other.rank\n",
    "  \n",
    "    ### END SOLUTION\n",
    "    \n",
    "### END QUESTION 1"
   ]
  },
  {
   "cell_type": "code",
   "execution_count": 4,
   "metadata": {
    "colab": {
     "autoexec": {
      "startup": false,
      "wait_interval": 0
     },
     "base_uri": "https://localhost:8080/",
     "height": 34
    },
    "colab_type": "code",
    "executionInfo": {
     "elapsed": 1422,
     "status": "ok",
     "timestamp": 1521642592782,
     "user": {
      "displayName": "Rayno Mostert",
      "photoUrl": "https://lh3.googleusercontent.com/a/default-user=s128",
      "userId": "107056986412592388577"
     },
     "user_tz": -120
    },
    "id": "eAPFgCVAj7JQ",
    "outputId": "97087579-621b-4599-fc5e-7b5f87ca3c5f"
   },
   "outputs": [
    {
     "name": "stdout",
     "output_type": "stream",
     "text": [
      "ace of spades\n"
     ]
    }
   ],
   "source": [
    "mycard = Card(rank = 14, suit = 3)\n",
    "print(mycard)"
   ]
  },
  {
   "cell_type": "markdown",
   "metadata": {
    "colab_type": "text",
    "id": "0Hhs61WVkVfN"
   },
   "source": [
    "***\n",
    "***TESTS***: <br>\n",
    "Make sure that the following tests all give a `True` result:"
   ]
  },
  {
   "cell_type": "code",
   "execution_count": 5,
   "metadata": {
    "colab": {
     "autoexec": {
      "startup": false,
      "wait_interval": 0
     },
     "base_uri": "https://localhost:8080/",
     "height": 34
    },
    "colab_type": "code",
    "executionInfo": {
     "elapsed": 1430,
     "status": "ok",
     "timestamp": 1521642594362,
     "user": {
      "displayName": "Rayno Mostert",
      "photoUrl": "https://lh3.googleusercontent.com/a/default-user=s128",
      "userId": "107056986412592388577"
     },
     "user_tz": -120
    },
    "id": "HZYcTB8E9CuQ",
    "outputId": "1b6cfacc-d2e8-4f65-b28d-11f13e947aa5"
   },
   "outputs": [
    {
     "data": {
      "text/plain": [
       "True"
      ]
     },
     "execution_count": 5,
     "metadata": {},
     "output_type": "execute_result"
    }
   ],
   "source": [
    "queen_of_h = Card(rank = 12, suit = 2)\n",
    "str(queen_of_h) == 'queen of hearts'"
   ]
  },
  {
   "cell_type": "code",
   "execution_count": 6,
   "metadata": {
    "colab": {
     "autoexec": {
      "startup": false,
      "wait_interval": 0
     },
     "base_uri": "https://localhost:8080/",
     "height": 34
    },
    "colab_type": "code",
    "executionInfo": {
     "elapsed": 1518,
     "status": "ok",
     "timestamp": 1521642595994,
     "user": {
      "displayName": "Rayno Mostert",
      "photoUrl": "https://lh3.googleusercontent.com/a/default-user=s128",
      "userId": "107056986412592388577"
     },
     "user_tz": -120
    },
    "id": "hrNUD0e_iGZe",
    "outputId": "7f777bfb-b645-4631-e821-34ebfc65e7b2"
   },
   "outputs": [
    {
     "data": {
      "text/plain": [
       "True"
      ]
     },
     "execution_count": 6,
     "metadata": {},
     "output_type": "execute_result"
    }
   ],
   "source": [
    "nine_of_d = Card(rank = 9, suit = 1)\n",
    "str(nine_of_d) == '9 of diamonds'"
   ]
  },
  {
   "cell_type": "code",
   "execution_count": 7,
   "metadata": {
    "colab": {
     "autoexec": {
      "startup": false,
      "wait_interval": 0
     }
    },
    "colab_type": "code",
    "id": "zD_GVPuZmgap"
   },
   "outputs": [],
   "source": [
    "nine_of_d + queen_of_h == 21\n",
    "# BEGIN HIDDEN TESTS\n",
    "assert(Card(rank = 5, suit = 1) + Card(rank = 5, suit = 0) == 10)\n",
    "# END HIDDEN TESTS"
   ]
  },
  {
   "cell_type": "code",
   "execution_count": 8,
   "metadata": {
    "colab": {
     "autoexec": {
      "startup": false,
      "wait_interval": 0
     }
    },
    "colab_type": "code",
    "id": "SCVJMBJ3ideI"
   },
   "outputs": [],
   "source": [
    "jack_of_c = Card(rank = 11, suit = 0)\n",
    "str(jack_of_c) == 'jack of clubs'\n",
    "### BEGIN HIDDEN TESTS\n",
    "assert(str(Card(2,0)) == '2 of clubs')\n",
    "assert(str(Card(11,2)) == 'jack of hearts')\n",
    "### END HIDDEN TESTS"
   ]
  },
  {
   "cell_type": "code",
   "execution_count": 9,
   "metadata": {
    "colab": {
     "autoexec": {
      "startup": false,
      "wait_interval": 0
     }
    },
    "colab_type": "code",
    "id": "o-vJcbRSmrPC"
   },
   "outputs": [],
   "source": [
    "jack_of_c < queen_of_h\n",
    "# BEGIN HIDDEN TESTS\n",
    "assert(Card(2,0) < Card(12, 3))\n",
    "assert(Card(11,2) < Card(12, 3))\n",
    "# END HIDDEN TESTS"
   ]
  },
  {
   "cell_type": "markdown",
   "metadata": {
    "colab_type": "text",
    "id": "U-IbPbM7-8ml"
   },
   "source": [
    "***\n",
    "\n",
    "### Let's Create a Deck of Cards!\n",
    "\n",
    "Now lets create an `array` representing an entire deck of **`card`**s:"
   ]
  },
  {
   "cell_type": "code",
   "execution_count": 10,
   "metadata": {
    "colab": {
     "autoexec": {
      "startup": false,
      "wait_interval": 0
     }
    },
    "colab_type": "code",
    "id": "VKbSfMb2-7NS"
   },
   "outputs": [],
   "source": [
    "deck = [Card(r, s) for r in range(13) for s in range(4)]"
   ]
  },
  {
   "cell_type": "markdown",
   "metadata": {
    "colab_type": "text",
    "id": "yD4Bt5qbT8SX"
   },
   "source": [
    "Let's shuffle the cards a bit:"
   ]
  },
  {
   "cell_type": "code",
   "execution_count": 11,
   "metadata": {
    "colab": {
     "autoexec": {
      "startup": false,
      "wait_interval": 0
     }
    },
    "colab_type": "code",
    "id": "WS-V_OndT7lw"
   },
   "outputs": [],
   "source": [
    "import random\n",
    "\n",
    "random.shuffle(deck)"
   ]
  },
  {
   "cell_type": "markdown",
   "metadata": {
    "colab_type": "text",
    "id": "52V16Bv2B6eI"
   },
   "source": [
    "Let's take a peek at our deck of cards:"
   ]
  },
  {
   "cell_type": "code",
   "execution_count": 12,
   "metadata": {
    "colab": {
     "autoexec": {
      "startup": false,
      "wait_interval": 0
     },
     "base_uri": "https://localhost:8080/",
     "height": 10
    },
    "colab_type": "code",
    "executionInfo": {
     "elapsed": 1600,
     "status": "ok",
     "timestamp": 1521642607676,
     "user": {
      "displayName": "Rayno Mostert",
      "photoUrl": "https://lh3.googleusercontent.com/a/default-user=s128",
      "userId": "107056986412592388577"
     },
     "user_tz": -120
    },
    "id": "W0ClpdV0_6rs",
    "outputId": "ea559a9b-c158-4caa-ecb3-8c3f8d6097e6"
   },
   "outputs": [
    {
     "name": "stdout",
     "output_type": "stream",
     "text": [
      "2 of diamonds\n",
      "8 of diamonds\n",
      "9 of hearts\n",
      "ace of spades\n",
      "4 of hearts\n",
      "8 of spades\n",
      "4 of diamonds\n",
      "10 of diamonds\n",
      "king of spades\n",
      "6 of diamonds\n",
      "6 of spades\n",
      "9 of clubs\n",
      "3 of hearts\n",
      "4 of spades\n",
      "9 of spades\n",
      "king of clubs\n",
      "king of diamonds\n",
      "queen of clubs\n",
      "7 of hearts\n",
      "7 of clubs\n",
      "jack of spades\n",
      "jack of clubs\n",
      "ace of clubs\n",
      "6 of hearts\n",
      "ace of diamonds\n",
      "10 of spades\n",
      "queen of diamonds\n",
      "5 of clubs\n",
      "3 of spades\n",
      "king of hearts\n",
      "10 of hearts\n",
      "6 of clubs\n",
      "queen of hearts\n",
      "ace of hearts\n",
      "5 of hearts\n",
      "queen of spades\n",
      "10 of clubs\n",
      "8 of hearts\n",
      "5 of spades\n",
      "2 of clubs\n",
      "3 of clubs\n",
      "7 of diamonds\n",
      "8 of clubs\n",
      "3 of diamonds\n",
      "4 of clubs\n",
      "jack of hearts\n",
      "jack of diamonds\n",
      "7 of spades\n",
      "2 of spades\n",
      "2 of hearts\n",
      "9 of diamonds\n",
      "5 of diamonds\n"
     ]
    }
   ],
   "source": [
    "[print(card) for card in deck];"
   ]
  },
  {
   "cell_type": "markdown",
   "metadata": {
    "colab_type": "text",
    "id": "42gFTL3qonAg"
   },
   "source": [
    "## Question 2:  Dealing a Hand\n",
    "\n",
    "***\n",
    "**Important:**\n",
    "You need to pass the tests (obtain a `True` result for all of the tests) in Question 1, in order to be able to continue with Question 2.\n",
    "\n",
    "***\n",
    "\n",
    "What's a deck of **`Card`**s without any **`Hand`**s to deal to?\n",
    "\n",
    "Build a Python Class, called **`Hand`**, with a single instance variable:  \n",
    "- **`cards`** $\\ \\ \\ $ (which is a `list`, initialized to $\\ \\ $ **`[]`**  $\\ \\ $ - an empty list)"
   ]
  },
  {
   "cell_type": "markdown",
   "metadata": {
    "colab_type": "text",
    "id": "42gFTL3qonAg"
   },
   "source": [
    "The **`Hand`** `class` should also have the following method:  \n",
    "- **`deal(card)`** $\\ \\ \\ $ (which `append`s the dealt `Card` to the `list` of `cards`)"
   ]
  },
  {
   "cell_type": "markdown",
   "metadata": {
    "colab_type": "text",
    "id": "42gFTL3qonAg"
   },
   "source": [
    "Your code should be able to do the following:\n",
    "\n",
    "- Anyone should be able to create an instance of **`Hand`**, by calling, for example:  $ \\ \\ \\ $ **`myHand = Hand()`** $\\ \\ $.\n",
    "<br><br>\n",
    "- Override the **`__init__`** method to create the instance variable called $\\ $ **`cards`** $\\ $, with a value of $\\ \\ $ **`[]`**  $\\ \\ $ - an empty list - when a **Hand** object is instantiated.\n",
    "<br><br>\n",
    "- Override the **`__repr__`** method to return:\n",
    "  - A `String` of all the `Card` objects in the `cards` list - using `str(card)` - separated by `', '`.\n",
    "  - E.g. `'jack of spades, queen of hearts, 9 of diamonds, 3 of clubs'`\n",
    "<br><br>\n",
    "- Anyone can add a `Card` instance (e.g. **`myCard`**) to the `list` of `card`s by using the `deal` function, e.g. **`myHand.deal(myCard)`** should add `myCard` to the list of `cards` on `myHand`."
   ]
  },
  {
   "cell_type": "code",
   "execution_count": 13,
   "metadata": {
    "colab": {
     "autoexec": {
      "startup": false,
      "wait_interval": 0
     }
    },
    "colab_type": "code",
    "id": "YJ4_S0poonAk"
   },
   "outputs": [],
   "source": [
    "### START QUESTION 2\n",
    "\n",
    "### BEGIN SOLUTION\n",
    "\n",
    "class Hand:\n",
    "\n",
    "    def __init__(self):\n",
    "        self.cards = []\n",
    "\n",
    "    def __repr__(self):\n",
    "        return ', '.join([str(card) for card in self.cards])\n",
    "\n",
    "    def deal(self, card):\n",
    "        self.cards.append(card)\n",
    "    \n",
    "### END SOLUTION\n",
    "  \n",
    "### END QUESTION 2"
   ]
  },
  {
   "cell_type": "markdown",
   "metadata": {
    "colab_type": "text",
    "id": "DA0Ndo3qonAs"
   },
   "source": [
    "***\n",
    "***TESTS***: <br>\n",
    "\n",
    "Make sure to check your code using the following tests (don't change the code in these cells):"
   ]
  },
  {
   "cell_type": "code",
   "execution_count": 14,
   "metadata": {
    "colab": {
     "autoexec": {
      "startup": false,
      "wait_interval": 0
     },
     "base_uri": "https://localhost:8080/",
     "height": 34
    },
    "colab_type": "code",
    "executionInfo": {
     "elapsed": 1342,
     "status": "ok",
     "timestamp": 1521642610704,
     "user": {
      "displayName": "Rayno Mostert",
      "photoUrl": "https://lh3.googleusercontent.com/a/default-user=s128",
      "userId": "107056986412592388577"
     },
     "user_tz": -120
    },
    "id": "n0JjQOQgaV0y",
    "outputId": "157e7da2-5d67-46cb-a369-581e8ee5a2bd"
   },
   "outputs": [
    {
     "data": {
      "text/plain": [
       "True"
      ]
     },
     "execution_count": 14,
     "metadata": {},
     "output_type": "execute_result"
    }
   ],
   "source": [
    "myHand = Hand()\n",
    "first_card = Card(rank = 11, suit = 3)\n",
    "second_card = Card(rank = 12, suit = 2)\n",
    "third_card = Card(rank = 9, suit = 1)\n",
    "fourth_card = Card(rank = 3, suit = 0)\n",
    "\n",
    "myHand.deal(first_card) \n",
    "myHand.deal(second_card) \n",
    "myHand.deal(third_card) \n",
    "myHand.deal(fourth_card) \n",
    "\n",
    "str(myHand.cards[0]) == \"jack of spades\""
   ]
  },
  {
   "cell_type": "code",
   "execution_count": 15,
   "metadata": {
    "colab": {
     "autoexec": {
      "startup": false,
      "wait_interval": 0
     }
    },
    "colab_type": "code",
    "id": "NOPT8_Jnb5eQ"
   },
   "outputs": [],
   "source": [
    "# SHOULD OUTPUT: 'jack of spades, queen of hearts, 9 of diamonds, 3 of clubs'\n",
    "str(myHand)\n",
    "\n",
    "# BEGIN HIDDEN TESTS\n",
    "\n",
    "myHand = Hand()\n",
    "\n",
    "assert(len(myHand.cards) == 0)\n",
    "\n",
    "first_card = Card(rank = 1, suit = 3) \n",
    "second_card = Card(rank = 2, suit = 2) \n",
    "third_card = Card(rank = 3, suit = 1) \n",
    "fourth_card = Card(rank = 4, suit = 0)\n",
    "fifth_card = Card(rank = 5, suit = 0)\n",
    "\n",
    "myHand.deal(first_card) \n",
    "\n",
    "assert(len(myHand.cards) == 1)\n",
    "\n",
    "myHand.deal(second_card) \n",
    "\n",
    "assert(len(myHand.cards) == 2)\n",
    "\n",
    "myHand.deal(third_card) \n",
    "\n",
    "assert(len(myHand.cards) == 3)\n",
    "\n",
    "myHand.deal(fourth_card)  \n",
    "\n",
    "assert(len(myHand.cards) == 4)\n",
    "\n",
    "myHand.deal(fifth_card)\n",
    "\n",
    "assert(len(myHand.cards) == 5)\n",
    "        \n",
    "assert(str(myHand) == 'ace of spades, 2 of hearts, 3 of diamonds, 4 of clubs, 5 of clubs')\n",
    "# END HIDDEN TESTS"
   ]
  },
  {
   "cell_type": "markdown",
   "metadata": {
    "colab_type": "text",
    "id": "rnk9oT94dKn2"
   },
   "source": [
    "***"
   ]
  },
  {
   "cell_type": "markdown",
   "metadata": {
    "colab_type": "text",
    "id": "mO1S--GUq1cz"
   },
   "source": [
    "## Question 3: Flush\n",
    "\n",
    "***\n",
    "**Important:**\n",
    "You need to pass the tests (obtain a `True` result for all of the tests in Question 1), in order to be able to continue with this question.\n",
    "\n",
    "***\n",
    "\n",
    "A ***[flush](https://en.wikipedia.org/wiki/List_of_poker_hands#Flush)*** has **5** cards from the **same suit**.\n",
    "\n",
    "Write a function, **`is_flush(cards)`**, that:\n",
    "- takes a `list` of `Cards`as an argument\n",
    "- `returns` $\\ $ `True` $\\ $ if the `list` of `Cards` is a flush \n",
    "- `returns` $\\ $ `False` $\\ $ if the `list` of `Cards` is NOT a flush."
   ]
  },
  {
   "cell_type": "code",
   "execution_count": 16,
   "metadata": {
    "colab": {
     "autoexec": {
      "startup": false,
      "wait_interval": 0
     }
    },
    "colab_type": "code",
    "id": "28Y6c7hhq1c1"
   },
   "outputs": [],
   "source": [
    "### START QUESTION 3\n",
    "\n",
    "def is_flush(cards):\n",
    "  \n",
    "    ### BEGIN SOLUTION\n",
    "    \n",
    "    suit_counts = {}\n",
    "    \n",
    "    for card in cards:\n",
    "        if not card.suit in suit_counts:\n",
    "            suit_counts[card.suit] = 0\n",
    "        \n",
    "        suit_counts[card.suit] = suit_counts[card.suit] + 1\n",
    "      \n",
    "    for key, value in suit_counts.items():\n",
    "        if value > 4:\n",
    "            return True\n",
    "        \n",
    "    return False\n",
    "\n",
    "    ### END SOLUTION\n",
    "    \n",
    "### END QUESTION 3"
   ]
  },
  {
   "cell_type": "markdown",
   "metadata": {
    "colab_type": "text",
    "id": "fuSjDPB1q1c6"
   },
   "source": [
    "***\n",
    "***TESTS***: <br>\n",
    "\n",
    "Make sure that your code passes the following tests:"
   ]
  },
  {
   "cell_type": "code",
   "execution_count": 17,
   "metadata": {
    "colab": {
     "autoexec": {
      "startup": false,
      "wait_interval": 0
     },
     "base_uri": "https://localhost:8080/",
     "height": 34
    },
    "colab_type": "code",
    "executionInfo": {
     "elapsed": 1650,
     "status": "ok",
     "timestamp": 1521642615562,
     "user": {
      "displayName": "Rayno Mostert",
      "photoUrl": "https://lh3.googleusercontent.com/a/default-user=s128",
      "userId": "107056986412592388577"
     },
     "user_tz": -120
    },
    "id": "OcdkNDw1r-ez",
    "outputId": "5f202252-bdd6-43f2-e8e4-0602166bbbe7"
   },
   "outputs": [
    {
     "data": {
      "text/plain": [
       "True"
      ]
     },
     "execution_count": 17,
     "metadata": {},
     "output_type": "execute_result"
    }
   ],
   "source": [
    "card1 = Card(13, 3)\n",
    "card2 = Card(5, 3)\n",
    "card3 = Card(9, 3)\n",
    "card4 = Card(12, 3)\n",
    "card5 = Card(8, 3)\n",
    "\n",
    "# TEST - MUST BE TRUE:\n",
    "is_flush([card1, card2, card3, card4, card5])"
   ]
  },
  {
   "cell_type": "code",
   "execution_count": 18,
   "metadata": {
    "colab": {
     "autoexec": {
      "startup": false,
      "wait_interval": 0
     },
     "base_uri": "https://localhost:8080/",
     "height": 34
    },
    "colab_type": "code",
    "executionInfo": {
     "elapsed": 3336,
     "status": "ok",
     "timestamp": 1521642620064,
     "user": {
      "displayName": "Rayno Mostert",
      "photoUrl": "https://lh3.googleusercontent.com/a/default-user=s128",
      "userId": "107056986412592388577"
     },
     "user_tz": -120
    },
    "id": "5V1yJGkKse52",
    "outputId": "978ea890-8964-4dac-a2de-346e6e61cfa2"
   },
   "outputs": [
    {
     "data": {
      "text/plain": [
       "False"
      ]
     },
     "execution_count": 18,
     "metadata": {},
     "output_type": "execute_result"
    }
   ],
   "source": [
    "card6 = Card(7, 2)\n",
    "card7 = Card(6, 1)\n",
    "\n",
    "# TEST - MUST BE FALSE:\n",
    "is_flush([card1, card2, card3, card6, card7])"
   ]
  },
  {
   "cell_type": "code",
   "execution_count": 19,
   "metadata": {
    "colab": {
     "autoexec": {
      "startup": false,
      "wait_interval": 0
     }
    },
    "colab_type": "code",
    "id": "PtRx1QG-wbnL"
   },
   "outputs": [],
   "source": [
    "### BEGIN HIDDEN TESTS\n",
    "\n",
    "card1 = Card(13, 3)\n",
    "card2 = Card(5, 3)\n",
    "card3 = Card(9, 3)\n",
    "card4 = Card(12, 3)\n",
    "card5 = Card(8, 3)\n",
    "card6 = Card(7, 2)\n",
    "card7 = Card(6, 1)\n",
    "\n",
    "assert(is_flush([card1, card2, card6, card7, card5]) == False)\n",
    "assert(is_flush([card2, card3, card4, card5, card1]) == True)\n",
    "\n",
    "### END HIDDEN TESTS"
   ]
  },
  {
   "cell_type": "markdown",
   "metadata": {
    "colab_type": "text",
    "id": "1WVNCrLgwqD5"
   },
   "source": [
    "![straight](https://upload.wikimedia.org/wikipedia/commons/thumb/5/50/Nut-Straight.jpg/1280px-Nut-Straight.jpg)\n",
    "\n",
    "## Question 4: Straight\n",
    "\n",
    "***\n",
    "**Important:**\n",
    "You need to pass the tests (obtain a `True` result [for all of the tests](#tests_q1)) in Question 1, in order to be able to continue with this question.\n",
    "\n",
    "***\n",
    "\n",
    "A ***[straight](https://en.wikipedia.org/wiki/List_of_poker_hands#Straight)*** hand has **5** cards of **sequential rank**, e.g. (3, 4, 5, 6, 7), or (ace, 2, 3, 4, 5), or (10, jack, queen, king, ace) - i.e. ace is EITHER lower than 2, or higher than King. It cannot be both for example, (queen, king, ace, 2, 3) is NOT A STRAIGHT.\n",
    "\n",
    "Write a function, **`is_straight(cards)`**, that:\n",
    "- takes as an argument a `list` of `Cards` \n",
    "- `returns` $\\ $ `True` $\\ $ if the `list` of `Cards` is a straight\n",
    "- `returns` $\\ $ `False` $\\ $ if the `list` of `Cards` is NOT a straight"
   ]
  },
  {
   "cell_type": "code",
   "execution_count": 20,
   "metadata": {
    "colab": {
     "autoexec": {
      "startup": false,
      "wait_interval": 0
     }
    },
    "colab_type": "code",
    "id": "V3fcitsrwqEM"
   },
   "outputs": [],
   "source": [
    "### START QUESTION 4\n",
    "\n",
    "def is_straight(cards):\n",
    "  \n",
    "    ### BEGIN SOLUTION\n",
    "    \n",
    "    idx = [card.rank for card in cards]\n",
    "      \n",
    "    idx = sorted(idx)\n",
    "    diffs = [idx[i + 1] - idx[i] for i in range(len(idx) - 1)]\n",
    "        \n",
    "    if sum(diffs) == len(cards) - 1:\n",
    "        return True\n",
    "    \n",
    "    return False\n",
    "\n",
    "    ### END SOLUTION\n",
    "    \n",
    "### END QUESTION 4"
   ]
  },
  {
   "cell_type": "markdown",
   "metadata": {
    "colab_type": "text",
    "id": "534lsn2vwqEc"
   },
   "source": [
    "***\n",
    "***TESTS***: <br>\n",
    "\n",
    "Make sure that the following tests all give a `True` result:"
   ]
  },
  {
   "cell_type": "code",
   "execution_count": 21,
   "metadata": {
    "colab": {
     "autoexec": {
      "startup": false,
      "wait_interval": 0
     },
     "base_uri": "https://localhost:8080/",
     "height": 34
    },
    "colab_type": "code",
    "executionInfo": {
     "elapsed": 1508,
     "status": "ok",
     "timestamp": 1521642624898,
     "user": {
      "displayName": "Rayno Mostert",
      "photoUrl": "https://lh3.googleusercontent.com/a/default-user=s128",
      "userId": "107056986412592388577"
     },
     "user_tz": -120
    },
    "id": "rjI0ln3VwqEf",
    "outputId": "7ae945cd-a1ef-45bc-b401-951d45ad5cba"
   },
   "outputs": [
    {
     "data": {
      "text/plain": [
       "True"
      ]
     },
     "execution_count": 21,
     "metadata": {},
     "output_type": "execute_result"
    }
   ],
   "source": [
    "card1 = Card(8, 3)\n",
    "card2 = Card(9, 3)\n",
    "card3 = Card(10, 3)\n",
    "card4 = Card(11, 3)\n",
    "card5 = Card(12, 3)\n",
    "\n",
    "# TEST - MUST BE TRUE:\n",
    "is_straight([card1, card2, card3, card4, card5])"
   ]
  },
  {
   "cell_type": "code",
   "execution_count": 22,
   "metadata": {
    "colab": {
     "autoexec": {
      "startup": false,
      "wait_interval": 0
     },
     "base_uri": "https://localhost:8080/",
     "height": 34
    },
    "colab_type": "code",
    "executionInfo": {
     "elapsed": 1156,
     "status": "ok",
     "timestamp": 1521642626280,
     "user": {
      "displayName": "Rayno Mostert",
      "photoUrl": "https://lh3.googleusercontent.com/a/default-user=s128",
      "userId": "107056986412592388577"
     },
     "user_tz": -120
    },
    "id": "K2gANDU_wqEs",
    "outputId": "f4ae3026-76ce-4dd2-f628-44b8c770c1bb"
   },
   "outputs": [
    {
     "data": {
      "text/plain": [
       "True"
      ]
     },
     "execution_count": 22,
     "metadata": {},
     "output_type": "execute_result"
    }
   ],
   "source": [
    "card6 = Card(12, 2)\n",
    "card7 = Card(13, 1)\n",
    "\n",
    "# TEST - MUST BE TRUE:\n",
    "is_straight([card6, card7, card3, card4, card2])"
   ]
  },
  {
   "cell_type": "code",
   "execution_count": 23,
   "metadata": {
    "colab": {
     "autoexec": {
      "startup": false,
      "wait_interval": 0
     }
    },
    "colab_type": "code",
    "id": "ohcVxsT_wqE3"
   },
   "outputs": [],
   "source": [
    "### BEGIN HIDDEN TESTS\n",
    "card1 = Card(8, 3)\n",
    "card2 = Card(9, 3)\n",
    "card3 = Card(10, 3)\n",
    "card4 = Card(11, 3)\n",
    "card5 = Card(12, 3)\n",
    "card6 = Card(12, 2)\n",
    "card7 = Card(13, 1)\n",
    "\n",
    "assert(is_straight([card6, card7, card1, card4, card5]) == False)\n",
    "assert(is_straight([card6, card7, card3, card4, card2]) == True)\n",
    "assert(is_straight([card1, card2, card3, card4, card5]) == True)\n",
    "\n",
    "### END HIDDEN TESTS"
   ]
  },
  {
   "cell_type": "markdown",
   "metadata": {
    "colab_type": "text",
    "id": "YKcPm71H_SDc"
   },
   "source": [
    "![straight](https://upload.wikimedia.org/wikipedia/commons/thumb/5/50/Nut-Straight.jpg/1280px-Nut-Straight.jpg)\n",
    "\n",
    "## ## Question 5: Four of a kind\n",
    "\n",
    "***\n",
    "**Important:**\n",
    "You need to pass the tests (obtain a `True` result [for all of the tests](#tests_q1)) in Question 1, in order to be able to continue with this question.\n",
    "\n",
    "***\n",
    "\n",
    "A ***[four of a kind](https://en.wikipedia.org/wiki/List_of_poker_hands#Four_of_a_kind)*** is a poker hand that has **4** cards of the **same rank**, and one card of another rank (e.g. a _3 of hearts_, a _3 of diamonds_, a _3 of clubs_, a _3 of spades_, and some other card).\n",
    "\n",
    "Write a function, **`four_of_a_kind(cards)`**, that:\n",
    "- takes `list` of `Cards` as an argument\n",
    "- `returns` $\\ $ `True` $\\ $ if the `list` of `Cards` is a $\\ $ **`four of a kind`** \n",
    "- `returns` $\\ $`False` $\\ $ - `returns` $\\ $`False` $\\ $ if the `list` of `Cards` is NOT a $\\ $ **`four of a kind`**"
   ]
  },
  {
   "cell_type": "code",
   "execution_count": 24,
   "metadata": {
    "colab": {
     "autoexec": {
      "startup": false,
      "wait_interval": 0
     }
    },
    "colab_type": "code",
    "id": "ECJw1bnY_SDl"
   },
   "outputs": [],
   "source": [
    "### START QUESTION 5\n",
    "\n",
    "def four_of_a_kind(cards):\n",
    "  \n",
    "    ### BEGIN SOLUTION\n",
    "    \n",
    "    rank_counts = {}\n",
    "    \n",
    "    for card in cards:\n",
    "        if not card.rank in rank_counts:\n",
    "            rank_counts[card.rank] = 0\n",
    "        \n",
    "        rank_counts[card.rank] = rank_counts[card.rank] + 1\n",
    "      \n",
    "    for key, value in rank_counts.items():\n",
    "        if value == 4:\n",
    "            return True\n",
    "        \n",
    "    return False\n",
    "\n",
    "    ### END SOLUTION\n",
    "    \n",
    "### END QUESTION 5"
   ]
  },
  {
   "cell_type": "markdown",
   "metadata": {
    "colab_type": "text",
    "id": "KHYQrjHa_SDx"
   },
   "source": [
    "***\n",
    "***TESTS***: <br>\n",
    "\n",
    "Make sure that your code passes the following tests:"
   ]
  },
  {
   "cell_type": "code",
   "execution_count": 25,
   "metadata": {
    "colab": {
     "autoexec": {
      "startup": false,
      "wait_interval": 0
     },
     "base_uri": "https://localhost:8080/",
     "height": 34
    },
    "colab_type": "code",
    "executionInfo": {
     "elapsed": 1462,
     "status": "ok",
     "timestamp": 1521642631890,
     "user": {
      "displayName": "Rayno Mostert",
      "photoUrl": "https://lh3.googleusercontent.com/a/default-user=s128",
      "userId": "107056986412592388577"
     },
     "user_tz": -120
    },
    "id": "aR3UpS-j_SD2",
    "outputId": "6c711868-a56d-4f49-b496-71e6c428bb65"
   },
   "outputs": [
    {
     "data": {
      "text/plain": [
       "False"
      ]
     },
     "execution_count": 25,
     "metadata": {},
     "output_type": "execute_result"
    }
   ],
   "source": [
    "card1 = Card(8, 3)\n",
    "card2 = Card(9, 3)\n",
    "card3 = Card(10, 3)\n",
    "card4 = Card(11, 3)\n",
    "card5 = Card(12, 3)\n",
    "\n",
    "# TEST - MUST BE FALSE:\n",
    "four_of_a_kind([card1, card2, card3, card4, card5])"
   ]
  },
  {
   "cell_type": "code",
   "execution_count": 26,
   "metadata": {
    "colab": {
     "autoexec": {
      "startup": false,
      "wait_interval": 0
     },
     "base_uri": "https://localhost:8080/",
     "height": 34
    },
    "colab_type": "code",
    "executionInfo": {
     "elapsed": 1592,
     "status": "ok",
     "timestamp": 1521642633598,
     "user": {
      "displayName": "Rayno Mostert",
      "photoUrl": "https://lh3.googleusercontent.com/a/default-user=s128",
      "userId": "107056986412592388577"
     },
     "user_tz": -120
    },
    "id": "GeUZfvqK_SEC",
    "outputId": "84de3626-27c4-4c36-c7c9-6bc5795b4d32"
   },
   "outputs": [
    {
     "data": {
      "text/plain": [
       "True"
      ]
     },
     "execution_count": 26,
     "metadata": {},
     "output_type": "execute_result"
    }
   ],
   "source": [
    "card6 = Card(11, 2)\n",
    "card7 = Card(11, 1)\n",
    "card8 = Card(8, 3)\n",
    "card9 = Card(11, 0)\n",
    "\n",
    "# TEST - MUST BE TRUE:\n",
    "four_of_a_kind([card6, card7, card8, card4, card9])"
   ]
  },
  {
   "cell_type": "code",
   "execution_count": 27,
   "metadata": {
    "colab": {
     "autoexec": {
      "startup": false,
      "wait_interval": 0
     },
     "base_uri": "https://localhost:8080/",
     "height": 34
    },
    "colab_type": "code",
    "executionInfo": {
     "elapsed": 1506,
     "status": "ok",
     "timestamp": 1521642635192,
     "user": {
      "displayName": "Rayno Mostert",
      "photoUrl": "https://lh3.googleusercontent.com/a/default-user=s128",
      "userId": "107056986412592388577"
     },
     "user_tz": -120
    },
    "id": "cliH7iDKwoxt",
    "outputId": "e3b8a9f9-978a-4192-e46f-50bd99bad5c5"
   },
   "outputs": [
    {
     "data": {
      "text/plain": [
       "True"
      ]
     },
     "execution_count": 27,
     "metadata": {},
     "output_type": "execute_result"
    }
   ],
   "source": [
    "four_of_a_kind([card2, card8, card8, card8, card8])"
   ]
  },
  {
   "cell_type": "code",
   "execution_count": 28,
   "metadata": {
    "colab": {
     "autoexec": {
      "startup": false,
      "wait_interval": 0
     }
    },
    "colab_type": "code",
    "id": "Mx1sgFHK_SEN"
   },
   "outputs": [],
   "source": [
    "### BEGIN HIDDEN TESTS\n",
    "card1 = Card(8, 3)\n",
    "card2 = Card(9, 3)\n",
    "card3 = Card(10, 3)\n",
    "card4 = Card(11, 3)\n",
    "card5 = Card(12, 3)\n",
    "card6 = Card(11, 2)\n",
    "card7 = Card(11, 1)\n",
    "card8 = Card(8, 3)\n",
    "card9 = Card(11, 0)\n",
    "\n",
    "assert(four_of_a_kind([card1, card7, card8, card4, card9]) == False)\n",
    "assert(four_of_a_kind([card2, card8, card8, card8, card8]) == True)\n",
    "assert(four_of_a_kind([card2]) == False)\n",
    "\n",
    "### END HIDDEN TESTS"
   ]
  },
  {
   "cell_type": "markdown",
   "metadata": {
    "colab_type": "text",
    "id": "4VoWy_1bx5s4"
   },
   "source": [
    "## Question 6: Full House\n",
    "\n",
    "***\n",
    "**Important:**\n",
    "You need to pass the tests (obtain a `True` result [for all of the tests](#tests_q1)) in Question 1, in order to be able to continue with this question.\n",
    "\n",
    "***\n",
    "\n",
    "A ***[full house](https://en.wikipedia.org/wiki/List_of_poker_hands#Full_house)*** is a poker hand that has **3** cards of the **same rank**, and another **2** cards of a **different rank**, for example:\n",
    "- a _**3** of hearts_, a _**3** of diamonds_, a _**3** of clubs_, a _**2** of spades_, a _**2** of hearts_\n",
    "- a _**jack** of spades_, **jack** of diamonds, a _**jack** of clubs_, a _**9** of spades_, a _**9** of clubs_\n",
    "\n",
    "Write a function, **`full_house(cards)`**, that:\n",
    "- takes a `list` of `Cards` as an argument\n",
    "- `returns` $\\ $ `True` $\\ $ if the `list` of `Cards` is a $\\ $ **`full house`** $\\ $\n",
    "- `returns` $\\ $ `False` $\\ $ if the `list` of `Cards` is NOT a $\\ $ **`full house`** $\\ $."
   ]
  },
  {
   "cell_type": "code",
   "execution_count": 29,
   "metadata": {
    "colab": {
     "autoexec": {
      "startup": false,
      "wait_interval": 0
     }
    },
    "colab_type": "code",
    "id": "hzWV3UpKx5tR"
   },
   "outputs": [],
   "source": [
    "### START QUESTION 6\n",
    "\n",
    "def full_house(cards):\n",
    "  \n",
    "    ### BEGIN SOLUTION\n",
    "    \n",
    "    rank_counts = {}\n",
    "    \n",
    "    for card in cards:\n",
    "        if not card.rank in rank_counts:\n",
    "            rank_counts[card.rank] = 0\n",
    "        \n",
    "        rank_counts[card.rank] = rank_counts[card.rank] + 1\n",
    "    \n",
    "    counts = [it[1] for it in rank_counts.items()]\n",
    "    counts = sorted(counts)\n",
    "    \n",
    "    if 2 in counts and 3 in counts:\n",
    "        return True\n",
    "        \n",
    "    return False\n",
    "\n",
    "    ### END SOLUTION\n",
    "    \n",
    "### END QUESTION 6"
   ]
  },
  {
   "cell_type": "markdown",
   "metadata": {
    "colab_type": "text",
    "id": "Syu2-T_kx5th"
   },
   "source": [
    "***\n",
    "***TESTS***: <br>\n",
    "\n",
    "Make sure that your code passes the following tests:"
   ]
  },
  {
   "cell_type": "code",
   "execution_count": 30,
   "metadata": {
    "colab": {
     "autoexec": {
      "startup": false,
      "wait_interval": 0
     },
     "base_uri": "https://localhost:8080/",
     "height": 34
    },
    "colab_type": "code",
    "executionInfo": {
     "elapsed": 1352,
     "status": "ok",
     "timestamp": 1521642639530,
     "user": {
      "displayName": "Rayno Mostert",
      "photoUrl": "https://lh3.googleusercontent.com/a/default-user=s128",
      "userId": "107056986412592388577"
     },
     "user_tz": -120
    },
    "id": "W_PBfOeXx5tl",
    "outputId": "5472ce88-5962-442d-973a-cb6c3a307ee5"
   },
   "outputs": [
    {
     "data": {
      "text/plain": [
       "False"
      ]
     },
     "execution_count": 30,
     "metadata": {},
     "output_type": "execute_result"
    }
   ],
   "source": [
    "card1 = Card(8, 3)\n",
    "card2 = Card(9, 3)\n",
    "card3 = Card(10, 3)\n",
    "card4 = Card(11, 3)\n",
    "card5 = Card(12, 3)\n",
    "\n",
    "# TEST - MUST BE FALSE:\n",
    "full_house([card1, card2, card3, card4, card5])"
   ]
  },
  {
   "cell_type": "code",
   "execution_count": 31,
   "metadata": {
    "colab": {
     "autoexec": {
      "startup": false,
      "wait_interval": 0
     },
     "base_uri": "https://localhost:8080/",
     "height": 34
    },
    "colab_type": "code",
    "executionInfo": {
     "elapsed": 1794,
     "status": "ok",
     "timestamp": 1521642641536,
     "user": {
      "displayName": "Rayno Mostert",
      "photoUrl": "https://lh3.googleusercontent.com/a/default-user=s128",
      "userId": "107056986412592388577"
     },
     "user_tz": -120
    },
    "id": "eFcOHfxYx5ty",
    "outputId": "251bee08-d036-41a5-9d6c-7cd0ac7d1541"
   },
   "outputs": [
    {
     "data": {
      "text/plain": [
       "True"
      ]
     },
     "execution_count": 31,
     "metadata": {},
     "output_type": "execute_result"
    }
   ],
   "source": [
    "card6 = Card(11, 2)\n",
    "card7 = Card(11, 1)\n",
    "card8 = Card(8, 3)\n",
    "card9 = Card(11, 0)\n",
    "\n",
    "# TEST - MUST BE TRUE:\n",
    "full_house([card6, card7, card8, card1, card9])"
   ]
  },
  {
   "cell_type": "code",
   "execution_count": 32,
   "metadata": {
    "colab": {
     "autoexec": {
      "startup": false,
      "wait_interval": 0
     }
    },
    "colab_type": "code",
    "id": "X_uhupMjx5uC"
   },
   "outputs": [],
   "source": [
    "### BEGIN HIDDEN TESTS\n",
    "card1 = Card(8, 3)\n",
    "card2 = Card(9, 3)\n",
    "card3 = Card(10, 3)\n",
    "card4 = Card(11, 3)\n",
    "card5 = Card(12, 3)\n",
    "card6 = Card(11, 2)\n",
    "card7 = Card(11, 1)\n",
    "card8 = Card(8, 3)\n",
    "card9 = Card(11, 0)\n",
    "\n",
    "assert(full_house([card2, card8, card6, card7, card9]) == False)\n",
    "assert(full_house([card2, card2, card8, card8, card8]) == True)\n",
    "assert(full_house([card2]) == False)\n",
    "\n",
    "### END HIDDEN TESTS"
   ]
  },
  {
   "cell_type": "markdown",
   "metadata": {
    "colab_type": "text",
    "id": "uyKL2NV6SRQy"
   },
   "source": [
    "## Question 7: Three of a kind\n",
    "\n",
    "***\n",
    "**Important:**\n",
    "You need to pass the tests (obtain a `True` result [for all of the tests](#tests_q1)) in Question 1, in order to be able to continue with this question.\n",
    "\n",
    "***\n",
    "\n",
    "A ***[three of a kind](https://en.wikipedia.org/wiki/List_of_poker_hands#Three_of_a_kind)*** is a poker hand that has **3** cards of the **same rank**, for example:\n",
    "- a _**3** of hearts_, a _**3** of diamonds_, a _**3** of clubs_, a _**2** of spades_, a _**8** of hearts_\n",
    "- a _**jack** of spades_, a _**jack** of diamonds_, a _**jack** of clubs_, a _**king** of spades_, a _**9** of clubs_\n",
    "\n",
    "Write a function, **`three_of_a_kind(cards)`**, that:\n",
    "- takes as an argument a `list` of `Cards`\n",
    "- `returns` $\\ $ `True` $\\ $ if the `list` of `Cards` is a $\\ $ **`three of a kind`** $\\ $\n",
    "- `returns`$\\ $ `False` $\\ $ if the `list` of `Cards` is NOT a $\\ $ **`three of a kind`** $\\ $"
   ]
  },
  {
   "cell_type": "code",
   "execution_count": 33,
   "metadata": {
    "colab": {
     "autoexec": {
      "startup": false,
      "wait_interval": 0
     }
    },
    "colab_type": "code",
    "id": "rIOncEoMSRQ4"
   },
   "outputs": [],
   "source": [
    "### START QUESTION 7\n",
    "\n",
    "def three_of_a_kind(cards):\n",
    "  \n",
    "    ### BEGIN SOLUTION\n",
    "    \n",
    "    rank_counts = {}\n",
    "    \n",
    "    for card in cards:\n",
    "        if not card.rank in rank_counts:\n",
    "            rank_counts[card.rank] = 0\n",
    "        \n",
    "        rank_counts[card.rank] = rank_counts[card.rank] + 1\n",
    "      \n",
    "    for key, value in rank_counts.items():\n",
    "        if value == 3:\n",
    "            return True\n",
    "        \n",
    "    return False\n",
    "\n",
    "    ### END SOLUTION\n",
    "    \n",
    "### END QUESTION 7"
   ]
  },
  {
   "cell_type": "markdown",
   "metadata": {
    "colab_type": "text",
    "id": "Lxf1W9phSRRE"
   },
   "source": [
    "***\n",
    "***TESTS***: <br>\n",
    "\n",
    "Make sure that your code passes the following tests:"
   ]
  },
  {
   "cell_type": "code",
   "execution_count": 34,
   "metadata": {
    "colab": {
     "autoexec": {
      "startup": false,
      "wait_interval": 0
     },
     "base_uri": "https://localhost:8080/",
     "height": 34
    },
    "colab_type": "code",
    "executionInfo": {
     "elapsed": 2930,
     "status": "ok",
     "timestamp": 1521642649346,
     "user": {
      "displayName": "Rayno Mostert",
      "photoUrl": "https://lh3.googleusercontent.com/a/default-user=s128",
      "userId": "107056986412592388577"
     },
     "user_tz": -120
    },
    "id": "Cz3gTxQxSRRH",
    "outputId": "4e477f8a-163a-45c7-ed56-8e873cec4cdb"
   },
   "outputs": [
    {
     "data": {
      "text/plain": [
       "False"
      ]
     },
     "execution_count": 34,
     "metadata": {},
     "output_type": "execute_result"
    }
   ],
   "source": [
    "card1 = Card(8, 3)\n",
    "card2 = Card(9, 3)\n",
    "card3 = Card(10, 3)\n",
    "card4 = Card(11, 3)\n",
    "card5 = Card(12, 3)\n",
    "\n",
    "# TEST - MUST BE FALSE:\n",
    "three_of_a_kind([card1, card2, card3, card4, card5])"
   ]
  },
  {
   "cell_type": "code",
   "execution_count": 35,
   "metadata": {
    "colab": {
     "autoexec": {
      "startup": false,
      "wait_interval": 0
     },
     "base_uri": "https://localhost:8080/",
     "height": 34
    },
    "colab_type": "code",
    "executionInfo": {
     "elapsed": 1708,
     "status": "ok",
     "timestamp": 1521642651206,
     "user": {
      "displayName": "Rayno Mostert",
      "photoUrl": "https://lh3.googleusercontent.com/a/default-user=s128",
      "userId": "107056986412592388577"
     },
     "user_tz": -120
    },
    "id": "603ip4bdSRRT",
    "outputId": "5d05b69f-4ab4-42af-ed72-aa8bd8bcff48"
   },
   "outputs": [
    {
     "data": {
      "text/plain": [
       "True"
      ]
     },
     "execution_count": 35,
     "metadata": {},
     "output_type": "execute_result"
    }
   ],
   "source": [
    "card6 = Card(11, 2)\n",
    "card7 = Card(11, 1)\n",
    "card8 = Card(8, 3)\n",
    "card9 = Card(11, 0)\n",
    "\n",
    "# TEST - MUST BE TRUE:\n",
    "three_of_a_kind([card6, card7, card8, card2, card9])"
   ]
  },
  {
   "cell_type": "code",
   "execution_count": 36,
   "metadata": {
    "colab": {
     "autoexec": {
      "startup": false,
      "wait_interval": 0
     }
    },
    "colab_type": "code",
    "id": "Q4Ao5M_RSRRd"
   },
   "outputs": [],
   "source": [
    "### BEGIN HIDDEN TESTS\n",
    "card1 = Card(8, 3)\n",
    "card2 = Card(9, 3)\n",
    "card3 = Card(10, 3)\n",
    "card4 = Card(11, 3)\n",
    "card5 = Card(12, 3)\n",
    "card6 = Card(11, 2)\n",
    "card7 = Card(11, 1)\n",
    "card8 = Card(8, 3)\n",
    "card9 = Card(11, 0)\n",
    "\n",
    "assert(three_of_a_kind([card2, card8, card6, card7, card1]) == False)\n",
    "assert(three_of_a_kind([card2, card2, card8, card8, card8]) == True)\n",
    "assert(three_of_a_kind([card2]) == False)\n",
    "\n",
    "### END HIDDEN TESTS"
   ]
  },
  {
   "cell_type": "markdown",
   "metadata": {
    "colab_type": "text",
    "id": "-Qkhp0RQVPbo"
   },
   "source": [
    "## Question 8: Two Pair\n",
    "\n",
    "***\n",
    "**Important:**\n",
    "You need to pass the tests (obtain a `True` result [for all of the tests](#tests_q1)) in Question 1, in order to be able to continue with this question.\n",
    "\n",
    "***\n",
    "\n",
    "A ***[two pair](https://en.wikipedia.org/wiki/List_of_poker_hands#Two_pair)*** is a poker hand that has **2** cards of the **same rank**, another **2** cards of **another rank**, and **1** card of a third rank (AKA _the kicker_), for example:\n",
    "- a _**3** of hearts_,    a _**3** of diamonds_, a _**2** of clubs_, a _**2** of spades_, a _**8** of hearts_ (the kicker)\n",
    "- a _**jack**_ of spades, a _**jack** of diamonds_, a _**king** of clubs_, a _**king*** of spades_, a _**9*** of clubs_ (the kicker)\n",
    "\n",
    "Write a function, **`two_pair(cards)`**, that:\n",
    "- takes as an argument a `list` of `Cards`\n",
    "- `returns` $\\ $ `True` $\\ $ if the `list` of `Cards` is a $\\ $ **`two pair`** $\\ $ \n",
    "- `returns` $\\ $ `False` $\\ $ if the `list` of `Cards` is NOT a $\\ $ **`two pair`** $\\ $ "
   ]
  },
  {
   "cell_type": "code",
   "execution_count": 37,
   "metadata": {
    "colab": {
     "autoexec": {
      "startup": false,
      "wait_interval": 0
     }
    },
    "colab_type": "code",
    "id": "MfC-jWL-VPb-"
   },
   "outputs": [],
   "source": [
    "### START QUESTION 8\n",
    "\n",
    "def two_pair(cards):\n",
    "  \n",
    "    ### BEGIN SOLUTION\n",
    "    \n",
    "    rank_counts = {}\n",
    "    \n",
    "    for card in cards:\n",
    "        if not card.rank in rank_counts:\n",
    "            rank_counts[card.rank] = 0\n",
    "        \n",
    "        rank_counts[card.rank] = rank_counts[card.rank] + 1\n",
    "      \n",
    "    pairs = 0\n",
    "    for key, value in rank_counts.items():\n",
    "        if value == 2:\n",
    "            pairs += 1\n",
    "        \n",
    "    if pairs == 2:\n",
    "        return True\n",
    "    \n",
    "    return False\n",
    "\n",
    "    ### END SOLUTION\n",
    "    \n",
    "### END QUESTION 8"
   ]
  },
  {
   "cell_type": "markdown",
   "metadata": {
    "colab_type": "text",
    "id": "Gov_03aIVPcL"
   },
   "source": [
    "***\n",
    "***TESTS***: <br>\n",
    "\n",
    "Make sure that your code passes the following tests:"
   ]
  },
  {
   "cell_type": "code",
   "execution_count": 38,
   "metadata": {
    "colab": {
     "autoexec": {
      "startup": false,
      "wait_interval": 0
     },
     "base_uri": "https://localhost:8080/",
     "height": 34
    },
    "colab_type": "code",
    "executionInfo": {
     "elapsed": 2998,
     "status": "ok",
     "timestamp": 1521642657654,
     "user": {
      "displayName": "Rayno Mostert",
      "photoUrl": "https://lh3.googleusercontent.com/a/default-user=s128",
      "userId": "107056986412592388577"
     },
     "user_tz": -120
    },
    "id": "Dowhy6mJVPcR",
    "outputId": "28fd04a5-bf39-4a8f-aa1c-3c74b864de2c"
   },
   "outputs": [
    {
     "data": {
      "text/plain": [
       "False"
      ]
     },
     "execution_count": 38,
     "metadata": {},
     "output_type": "execute_result"
    }
   ],
   "source": [
    "card1 = Card(8, 3)\n",
    "card2 = Card(9, 3)\n",
    "card3 = Card(10, 3)\n",
    "card4 = Card(11, 3)\n",
    "card5 = Card(12, 3)\n",
    "\n",
    "# TEST - MUST BE FALSE:\n",
    "two_pair([card1, card2, card3, card4, card5])"
   ]
  },
  {
   "cell_type": "code",
   "execution_count": 39,
   "metadata": {
    "colab": {
     "autoexec": {
      "startup": false,
      "wait_interval": 0
     },
     "base_uri": "https://localhost:8080/",
     "height": 34
    },
    "colab_type": "code",
    "executionInfo": {
     "elapsed": 1498,
     "status": "ok",
     "timestamp": 1521642659312,
     "user": {
      "displayName": "Rayno Mostert",
      "photoUrl": "https://lh3.googleusercontent.com/a/default-user=s128",
      "userId": "107056986412592388577"
     },
     "user_tz": -120
    },
    "id": "Yssi2k2pVPcb",
    "outputId": "eecacefc-43af-489e-9318-4c7816ee2ee4"
   },
   "outputs": [
    {
     "data": {
      "text/plain": [
       "True"
      ]
     },
     "execution_count": 39,
     "metadata": {},
     "output_type": "execute_result"
    }
   ],
   "source": [
    "card6 = Card(11, 2)\n",
    "card7 = Card(11, 1)\n",
    "card8 = Card(8, 3)\n",
    "card9 = Card(11, 0)\n",
    "\n",
    "# TEST - MUST BE TRUE:\n",
    "two_pair([card6, card7, card8, card1, card3])"
   ]
  },
  {
   "cell_type": "code",
   "execution_count": 40,
   "metadata": {
    "colab": {
     "autoexec": {
      "startup": false,
      "wait_interval": 0
     }
    },
    "colab_type": "code",
    "id": "1B57dkZuVPck"
   },
   "outputs": [],
   "source": [
    "### BEGIN HIDDEN TESTS\n",
    "card1 = Card(8, 3)\n",
    "card2 = Card(9, 3)\n",
    "card3 = Card(10, 3)\n",
    "card4 = Card(11, 3)\n",
    "card5 = Card(12, 3)\n",
    "card6 = Card(11, 2)\n",
    "card7 = Card(11, 1)\n",
    "card8 = Card(8, 3)\n",
    "card9 = Card(11, 0)\n",
    "\n",
    "assert(two_pair([card2, card8, card6, card7, card1]) == True)\n",
    "assert(two_pair([card2, card2, card8, card8, card8]) == False)\n",
    "assert(two_pair([card2]) == False)\n",
    "\n",
    "### END HIDDEN TESTS"
   ]
  },
  {
   "cell_type": "markdown",
   "metadata": {
    "colab_type": "text",
    "id": "p6EPC3yrYeeL"
   },
   "source": [
    "## Question 9: One Pair\n",
    "\n",
    "***\n",
    "**Important:**\n",
    "You need to pass the tests (obtain a `True` result [for all of the tests](#tests_q1)) in Question 1, in **Question 1**, in order to be able to continue with this question.\n",
    "\n",
    "***\n",
    "\n",
    "A ***[one pair](https://en.wikipedia.org/wiki/List_of_poker_hands#Two_pair)*** is a poker hand that has **2** cards of the **same rank**, and **3** cards of other ranks (the kickers), for example:\n",
    "- a _**3** of hearts_, a _*3** of diamonds_, a _**2** of clubs_, a _**6** of spades_, a _**8** of hearts_ (the kicker)\n",
    "- a _**jack** of spades_, a _**jack** of diamonds_, a _**king** of clubs_, a _**queen** of spades_, a _**9** of clubs_ (the kicker)\n",
    "\n",
    "Write a function, **`one_pair(cards)`**, that:\n",
    "- takes as an argument a `list` of `Cards`\n",
    "- `returns` $\\ $ `True` $\\ $ if the `list` of `Cards` is a $\\ $ **`one pair`** $\\ $\n",
    "- `returns` $\\ $ `False` $\\ $ if the `list` of `Cards` is NOT a $\\ $ **`one pair`** $\\ $."
   ]
  },
  {
   "cell_type": "code",
   "execution_count": 41,
   "metadata": {
    "colab": {
     "autoexec": {
      "startup": false,
      "wait_interval": 0
     }
    },
    "colab_type": "code",
    "id": "8-Rz3TfVYeeZ"
   },
   "outputs": [],
   "source": [
    "### START QUESTION 9\n",
    "\n",
    "def one_pair(cards):\n",
    "  \n",
    "    ### BEGIN SOLUTION\n",
    "    \n",
    "    rank_counts = {}\n",
    "    \n",
    "    for card in cards:\n",
    "        if not card.rank in rank_counts:\n",
    "            rank_counts[card.rank] = 0\n",
    "        \n",
    "        rank_counts[card.rank] = rank_counts[card.rank] + 1\n",
    "      \n",
    "    pairs = 0\n",
    "    triples = 0\n",
    "    for key, value in rank_counts.items():\n",
    "        if value == 2:\n",
    "            pairs += 1\n",
    "        elif value == 3:\n",
    "            triples += 1\n",
    "        \n",
    "    if pairs == 1 and triples == 0:\n",
    "        return True\n",
    "    \n",
    "    return False\n",
    "\n",
    "    ### END SOLUTION\n",
    "    \n",
    "### END QUESTION 9"
   ]
  },
  {
   "cell_type": "markdown",
   "metadata": {
    "colab_type": "text",
    "id": "Pq8XqULuYeet"
   },
   "source": [
    "***\n",
    "***TESTS***: <br>\n",
    "\n",
    "Make sure that your code passes the following tests:"
   ]
  },
  {
   "cell_type": "code",
   "execution_count": 42,
   "metadata": {
    "colab": {
     "autoexec": {
      "startup": false,
      "wait_interval": 0
     },
     "base_uri": "https://localhost:8080/",
     "height": 34
    },
    "colab_type": "code",
    "executionInfo": {
     "elapsed": 1378,
     "status": "ok",
     "timestamp": 1521642663912,
     "user": {
      "displayName": "Rayno Mostert",
      "photoUrl": "https://lh3.googleusercontent.com/a/default-user=s128",
      "userId": "107056986412592388577"
     },
     "user_tz": -120
    },
    "id": "hv8z37R_Yeex",
    "outputId": "c55299cf-225f-4cc6-ddfb-dfa5dcec7215"
   },
   "outputs": [
    {
     "data": {
      "text/plain": [
       "False"
      ]
     },
     "execution_count": 42,
     "metadata": {},
     "output_type": "execute_result"
    }
   ],
   "source": [
    "card1 = Card(8, 3)\n",
    "card2 = Card(9, 3)\n",
    "card3 = Card(10, 3)\n",
    "card4 = Card(11, 3)\n",
    "card5 = Card(12, 3)\n",
    "\n",
    "# TEST - MUST BE FALSE:\n",
    "one_pair([card1, card2, card3, card4, card5])"
   ]
  },
  {
   "cell_type": "code",
   "execution_count": 43,
   "metadata": {
    "colab": {
     "autoexec": {
      "startup": false,
      "wait_interval": 0
     },
     "base_uri": "https://localhost:8080/",
     "height": 34
    },
    "colab_type": "code",
    "executionInfo": {
     "elapsed": 1470,
     "status": "ok",
     "timestamp": 1521642665530,
     "user": {
      "displayName": "Rayno Mostert",
      "photoUrl": "https://lh3.googleusercontent.com/a/default-user=s128",
      "userId": "107056986412592388577"
     },
     "user_tz": -120
    },
    "id": "ghuYyieLYee8",
    "outputId": "ce7d4bab-6366-4ad6-f6cd-4b2a13065bcb"
   },
   "outputs": [
    {
     "data": {
      "text/plain": [
       "True"
      ]
     },
     "execution_count": 43,
     "metadata": {},
     "output_type": "execute_result"
    }
   ],
   "source": [
    "card6 = Card(11, 2)\n",
    "card7 = Card(11, 1)\n",
    "card8 = Card(8, 3)\n",
    "card9 = Card(11, 0)\n",
    "\n",
    "# TEST - MUST BE TRUE:\n",
    "one_pair([card6, card7, card8, card2, card3])"
   ]
  },
  {
   "cell_type": "code",
   "execution_count": 44,
   "metadata": {
    "colab": {
     "autoexec": {
      "startup": false,
      "wait_interval": 0
     }
    },
    "colab_type": "code",
    "id": "jyiSC7DqYefD"
   },
   "outputs": [],
   "source": [
    "### BEGIN HIDDEN TESTS\n",
    "card1 = Card(8, 3)\n",
    "card2 = Card(9, 3)\n",
    "card3 = Card(10, 3)\n",
    "card4 = Card(11, 3)\n",
    "card5 = Card(12, 3)\n",
    "card6 = Card(11, 2)\n",
    "card7 = Card(11, 1)\n",
    "card8 = Card(8, 3)\n",
    "card9 = Card(11, 0)\n",
    "\n",
    "assert(one_pair([card3, card2, card6, card7, card1]) == True)\n",
    "assert(one_pair([card2, card2, card8, card8, card8]) == False)\n",
    "assert(one_pair([card2]) == False)\n",
    "\n",
    "### END HIDDEN TESTS"
   ]
  },
  {
   "cell_type": "markdown",
   "metadata": {
    "colab_type": "text",
    "id": "S2CaQ7hm0c9Q"
   },
   "source": [
    "![Royal Flush](https://upload.wikimedia.org/wikipedia/commons/d/d8/Royal_Flush_w.jpg)\n",
    "\n",
    "## Question 10: Straight Flush\n",
    "\n",
    "***\n",
    "**Important:**\n",
    "You need to pass the tests (obtain a `True` result [for all of the tests](#tests_q1)) in Question 1, in order to be able to continue with this question.\n",
    "\n",
    "***\n",
    "\n",
    "A ***[straight flush](https://en.wikipedia.org/wiki/List_of_poker_hands#Straight_flush)*** has **5** cards from the **same suit** of **consequential rank**, e.g. (3, 4, 5, 6, 7), or (10, jack, queen, king, ace) - i.e. ace is high-ranking. Also note that, in this example, (queen, king, ace, 2, 3) is NOT A STRAIGHT HAND.\n",
    "<br><br>\n",
    "\n",
    "Write a function, **`straight_flush(cards)`**, that:\n",
    "- takes as an argument a `list` of `Cards`\n",
    "- `returns` $\\ $ `True` $\\ $ if the `list` of `Cards` is a straight flush\n",
    "- `returns` $\\ $ `False` $\\ $ if the `list` of `Cards` is NOT a straight flush\n",
    "\n",
    "***"
   ]
  },
  {
   "cell_type": "code",
   "execution_count": 45,
   "metadata": {
    "colab": {
     "autoexec": {
      "startup": false,
      "wait_interval": 0
     }
    },
    "colab_type": "code",
    "id": "zkFu596i0c9l"
   },
   "outputs": [],
   "source": [
    "### START QUESTION 10\n",
    "\n",
    "def straight_flush(cards):\n",
    "  \n",
    "    ### BEGIN SOLUTION\n",
    "    \n",
    "    is_flush = False\n",
    "    is_straight = False\n",
    "    \n",
    "    suit_counts = {}\n",
    "    \n",
    "    for card in cards:\n",
    "        if not card.suit in suit_counts:\n",
    "            suit_counts[card.suit] = 0\n",
    "        \n",
    "        suit_counts[card.suit] = suit_counts[card.suit] + 1\n",
    "      \n",
    "    for key, value in suit_counts.items():\n",
    "        if value > 4:\n",
    "            is_flush = True\n",
    "  \n",
    "  \n",
    "    idx = [card.rank for card in cards]\n",
    "      \n",
    "    idx = sorted(idx)\n",
    "    diffs = [idx[i + 1] - idx[i] for i in range(len(idx) - 1)]\n",
    "        \n",
    "    if sum(diffs) == len(cards) - 1:\n",
    "        is_straight = True\n",
    "    \n",
    "    return is_straight and is_flush\n",
    "\n",
    "    ### END SOLUTION\n",
    "    \n",
    "### END QUESTION 10"
   ]
  },
  {
   "cell_type": "markdown",
   "metadata": {
    "colab_type": "text",
    "id": "3356meh-0c91"
   },
   "source": [
    "***\n",
    "***TESTS***: <br>\n",
    "\n",
    "Make sure that your code passes the following tests:"
   ]
  },
  {
   "cell_type": "code",
   "execution_count": 46,
   "metadata": {
    "colab": {
     "autoexec": {
      "startup": false,
      "wait_interval": 0
     },
     "base_uri": "https://localhost:8080/",
     "height": 34
    },
    "colab_type": "code",
    "executionInfo": {
     "elapsed": 1370,
     "status": "ok",
     "timestamp": 1521642670642,
     "user": {
      "displayName": "Rayno Mostert",
      "photoUrl": "https://lh3.googleusercontent.com/a/default-user=s128",
      "userId": "107056986412592388577"
     },
     "user_tz": -120
    },
    "id": "y0g9Q3dg0c97",
    "outputId": "c7416e4c-2308-44ec-e8af-5e26ba33c296"
   },
   "outputs": [
    {
     "data": {
      "text/plain": [
       "True"
      ]
     },
     "execution_count": 46,
     "metadata": {},
     "output_type": "execute_result"
    }
   ],
   "source": [
    "card1 = Card(13, 3)\n",
    "card2 = Card(11, 3)\n",
    "card3 = Card(9, 3)\n",
    "card4 = Card(12, 3)\n",
    "card5 = Card(10, 3)\n",
    "\n",
    "# TEST - MUST BE TRUE:\n",
    "straight_flush([card1, card2, card3, card4, card5])"
   ]
  },
  {
   "cell_type": "code",
   "execution_count": 47,
   "metadata": {
    "colab": {
     "autoexec": {
      "startup": false,
      "wait_interval": 0
     },
     "base_uri": "https://localhost:8080/",
     "height": 34
    },
    "colab_type": "code",
    "executionInfo": {
     "elapsed": 1562,
     "status": "ok",
     "timestamp": 1521642672414,
     "user": {
      "displayName": "Rayno Mostert",
      "photoUrl": "https://lh3.googleusercontent.com/a/default-user=s128",
      "userId": "107056986412592388577"
     },
     "user_tz": -120
    },
    "id": "pSLDWK7c0c-G",
    "outputId": "c6047f59-c209-4a9c-ba70-04a21936cc63"
   },
   "outputs": [
    {
     "data": {
      "text/plain": [
       "False"
      ]
     },
     "execution_count": 47,
     "metadata": {},
     "output_type": "execute_result"
    }
   ],
   "source": [
    "card6 = Card(7, 2)\n",
    "card7 = Card(6, 1)\n",
    "\n",
    "# TEST - MUST BE FALSE:\n",
    "straight_flush([card1, card2, card3, card6, card7])"
   ]
  },
  {
   "cell_type": "code",
   "execution_count": 48,
   "metadata": {
    "colab": {
     "autoexec": {
      "startup": false,
      "wait_interval": 0
     }
    },
    "colab_type": "code",
    "id": "HZdJze-A0c-P"
   },
   "outputs": [],
   "source": [
    "### BEGIN HIDDEN TESTS\n",
    "\n",
    "card1 = Card(13, 3)\n",
    "card2 = Card(12, 3)\n",
    "card3 = Card(11, 3)\n",
    "card4 = Card(10, 3)\n",
    "card5 = Card(9, 3)\n",
    "card6 = Card(8, 2)\n",
    "card7 = Card(7, 1)\n",
    "\n",
    "assert(straight_flush([card7, card6, card5, card4, card3]) == False)\n",
    "assert(straight_flush([card1, card2, card3, card4, card5]) == True)\n",
    "\n",
    "### END HIDDEN TESTS"
   ]
  },
  {
   "cell_type": "markdown",
   "metadata": {
    "colab_type": "text",
    "id": "MlTdhbvO3FUU"
   },
   "source": [
    "# End of Marked questions\n",
    "You may continue working on these questions if you wish to. They will not be marked with the autograder. \n",
    "\n",
    "**REMEMBER** you cannot have any errors in your cells when you submit to the autograder."
   ]
  },
  {
   "cell_type": "markdown",
   "metadata": {
    "colab_type": "text",
    "id": "MlTdhbvO3FUU"
   },
   "source": [
    "## Royal Flush\n",
    "\n",
    "A ***[royal flush](https://en.wikipedia.org/wiki/List_of_poker_hands#Straight_flush)*** is just a straight flush with the highest card being an *Ace*. By setting up the Highest Card check (up next), we'll be able to rank a royal flush above a straight flush.\n",
    "<br><br>"
   ]
  },
  {
   "cell_type": "markdown",
   "metadata": {
    "colab_type": "text",
    "id": "icQG1rPufk_6"
   },
   "source": [
    "## For Fun! Question 11: Highest Single Card\n",
    "\n",
    "***\n",
    "**Important:**\n",
    "You need to pass the tests (obtain a `True` result for all of the tests) in **Question 1**, in order to be able to continue with this question.\n",
    "\n",
    "***\n",
    "\n",
    "A ***kicker*** is a card that is used to break ties between poker hands of the same rank. E.g:\n",
    "- **3** of hearts,    **3** of diamonds, ***2*** of clubs (kicker), ***6*** of spades (kicker), ***8*** of hearts (kicker)\n",
    "- **jack** of spades, **jack** of diamonds, ***king*** of clubs, ***king*** of spades, ***9*** of clubs (the kicker)\n",
    "\n",
    "Write a function, **`highest_single_card(cards)`**, that:\n",
    "- takes as an argument a `list` of `Card`s, and then\n",
    "- `return`s the highest rank of the single cards in the list (i.e. those cards that do not form part of a rank pair, triple or quad),\n",
    "- `return`s **`0`** if there are no single cards in the list.\n",
    "\n",
    "\n",
    "For example:\n",
    "- for a list of cards: \n",
    "  - **9** of hearts,    \n",
    "  - **9** of diamonds,\n",
    "  - ***2*** of clubs,\n",
    "  - ***6*** of spades,\n",
    "  - ***8*** of hearts\n",
    "<br>your function should `return` **`8`** (the highest rank of the single cards)\n",
    "- for a list of cards: \n",
    "  - **jack** of spades,    \n",
    "  - **jack** of diamonds,\n",
    "  - ***king*** of clubs,\n",
    "  - ***king*** of spades,\n",
    "  - ***queen*** of hearts\n",
    "<br>your function should `return` **`12`** (a.k.a 'queen' - the highest rank of the single cards)"
   ]
  },
  {
   "cell_type": "code",
   "execution_count": 49,
   "metadata": {
    "colab": {
     "autoexec": {
      "startup": false,
      "wait_interval": 0
     }
    },
    "colab_type": "code",
    "id": "o9UlOyArflAF"
   },
   "outputs": [],
   "source": [
    "### START QUESTION 11\n",
    "\n",
    "def highest_single_card(cards):\n",
    "  \n",
    "    ### BEGIN SOLUTION\n",
    "    \n",
    "    rank_counts = {}\n",
    "    \n",
    "    for card in cards:\n",
    "        if not card.rank in rank_counts:\n",
    "            rank_counts[card.rank] = 0\n",
    "        \n",
    "        rank_counts[card.rank] = rank_counts[card.rank] + 1\n",
    "      \n",
    "    singles = [0]\n",
    "    for key, value in rank_counts.items():\n",
    "        if value == 1:\n",
    "            singles.append(key)\n",
    "        \n",
    "    return max(singles)\n",
    "\n",
    "    ### END SOLUTION\n",
    "    \n",
    "### END QUESTION 11"
   ]
  },
  {
   "cell_type": "markdown",
   "metadata": {
    "colab_type": "text",
    "id": "y6r_6vkIflAS"
   },
   "source": [
    "***\n",
    "***TESTS***: <br>\n",
    "\n",
    "Make sure that your code passes the following tests:"
   ]
  },
  {
   "cell_type": "code",
   "execution_count": 50,
   "metadata": {
    "colab": {
     "autoexec": {
      "startup": false,
      "wait_interval": 0
     },
     "base_uri": "https://localhost:8080/",
     "height": 34
    },
    "colab_type": "code",
    "executionInfo": {
     "elapsed": 1916,
     "status": "ok",
     "timestamp": 1521642677530,
     "user": {
      "displayName": "Rayno Mostert",
      "photoUrl": "https://lh3.googleusercontent.com/a/default-user=s128",
      "userId": "107056986412592388577"
     },
     "user_tz": -120
    },
    "id": "ELmaIXNKflAW",
    "outputId": "17957af6-c18b-4224-a8bb-3afda58d93c1"
   },
   "outputs": [
    {
     "data": {
      "text/plain": [
       "12"
      ]
     },
     "execution_count": 50,
     "metadata": {},
     "output_type": "execute_result"
    }
   ],
   "source": [
    "card1 = Card(8, 3)\n",
    "card2 = Card(9, 3)\n",
    "card3 = Card(10, 3)\n",
    "card4 = Card(11, 3)\n",
    "card5 = Card(12, 3)\n",
    "\n",
    "# TEST - MUST RETURN 12:\n",
    "highest_single_card([card1, card2, card3, card4, card5])"
   ]
  },
  {
   "cell_type": "code",
   "execution_count": 51,
   "metadata": {
    "colab": {
     "autoexec": {
      "startup": false,
      "wait_interval": 0
     },
     "base_uri": "https://localhost:8080/",
     "height": 34
    },
    "colab_type": "code",
    "executionInfo": {
     "elapsed": 1126,
     "status": "ok",
     "timestamp": 1521642678822,
     "user": {
      "displayName": "Rayno Mostert",
      "photoUrl": "https://lh3.googleusercontent.com/a/default-user=s128",
      "userId": "107056986412592388577"
     },
     "user_tz": -120
    },
    "id": "V7Cz0iPGflAp",
    "outputId": "deac6e88-5d80-4b49-d614-b785ce776015"
   },
   "outputs": [
    {
     "data": {
      "text/plain": [
       "8"
      ]
     },
     "execution_count": 51,
     "metadata": {},
     "output_type": "execute_result"
    }
   ],
   "source": [
    "card6 = Card(11, 2)\n",
    "card7 = Card(11, 1)\n",
    "card8 = Card(8, 3)\n",
    "card9 = Card(11, 0)\n",
    "card10 = Card(11, 0)\n",
    "\n",
    "# TEST - MUST RETURN 10:\n",
    "highest_single_card([card6, card7, card8, card9, card10])"
   ]
  },
  {
   "cell_type": "code",
   "execution_count": 52,
   "metadata": {
    "colab": {
     "autoexec": {
      "startup": false,
      "wait_interval": 0
     }
    },
    "colab_type": "code",
    "id": "0IULOtGdflA4"
   },
   "outputs": [],
   "source": [
    "### BEGIN HIDDEN TESTS\n",
    "card1 = Card(8, 3)\n",
    "card2 = Card(9, 3)\n",
    "card3 = Card(10, 3)\n",
    "card4 = Card(11, 3)\n",
    "card5 = Card(12, 3)\n",
    "card6 = Card(11, 2)\n",
    "card7 = Card(11, 1)\n",
    "card8 = Card(8, 3)\n",
    "card9 = Card(11, 0)\n",
    "\n",
    "assert(highest_single_card([card3, card2, card6, card7, card1]) == 10)\n",
    "assert(highest_single_card([card2, card2, card8, card8, card8]) == 0)\n",
    "### END HIDDEN TESTS"
   ]
  },
  {
   "cell_type": "markdown",
   "metadata": {
    "colab_type": "text",
    "id": "Hkj4tLGPzNQB"
   },
   "source": [
    "## For Fun! Scoring\n",
    "\n",
    "***\n",
    "**Important:**\n",
    "You need to pass the tests (obtain a `True` result for all of the tests) in **Questions 1 up to 9**, in order to be able to continue with this question.\n",
    "\n",
    "***\n",
    "\n",
    "In the game of poker, the list of hands (i.e. 5-card combinations), rank as follows (from highest rank to lowest):\n",
    "- Royal flush\n",
    "- Straight flush\n",
    "- Four of a kind\n",
    "- Full house\n",
    "- Flush\n",
    "- Straight\n",
    "- Three of a kind\n",
    "- Two pair\n",
    "- One pair\n",
    "\n",
    "![Hand Rankings](https://upload.wikimedia.org/wikipedia/commons/thumb/1/1c/Poker_Hand_Rankings_Chart.jpg/457px-Poker_Hand_Rankings_Chart.jpg)\n",
    "\n",
    "In this example we'll then use the highest single card as a tie breaker."
   ]
  },
  {
   "cell_type": "code",
   "execution_count": 53,
   "metadata": {
    "colab": {
     "autoexec": {
      "startup": false,
      "wait_interval": 0
     }
    },
    "colab_type": "code",
    "id": "9zqzDQvszNQV"
   },
   "outputs": [],
   "source": [
    "def who_wins(hand1, hand2):\n",
    "    hand_ranking_categories = [straight_flush, four_of_a_kind, full_house, is_flush, is_straight, three_of_a_kind, two_pair, one_pair]\n",
    "\n",
    "    hand_1_categories = [category(hand1.cards) for category in hand_ranking_categories]\n",
    "    hand_2_categories = [category(hand2.cards) for category in hand_ranking_categories]\n",
    "\n",
    "    print(hand_1_categories)\n",
    "    print(hand_2_categories)\n",
    "\n",
    "    hand_1_categories.append(True)\n",
    "    hand_2_categories.append(True)\n",
    "\n",
    "    if hand_1_categories.index(True) < hand_2_categories.index(True):\n",
    "        return 'Hand 1 wins'\n",
    "\n",
    "    elif hand_1_categories.index(True) > hand_2_categories.index(True):\n",
    "        return 'Hand 2 wins'\n",
    "\n",
    "\n",
    "    if highest_single_card(hand1.cards) > highest_single_card(hand2.cards):\n",
    "        return 'Tie.  Hand 1 wins via highest kicker...'\n",
    "    elif highest_single_card(hand1.cards) < highest_single_card(hand2.cards):\n",
    "        return 'Tie.  Hand 2 wins via highest kicker...'\n",
    "    else:\n",
    "        return 'Tie...'"
   ]
  },
  {
   "cell_type": "markdown",
   "metadata": {
    "colab_type": "text",
    "id": "XrG9EVEj_-J4"
   },
   "source": [
    "# For Fun! Let's Play!\n",
    "\n",
    "First create a deck and shuffle it:"
   ]
  },
  {
   "cell_type": "code",
   "execution_count": 54,
   "metadata": {
    "colab": {
     "autoexec": {
      "startup": false,
      "wait_interval": 0
     }
    },
    "colab_type": "code",
    "id": "meYVDtKjADSE"
   },
   "outputs": [],
   "source": [
    "deck = [Card(r, s) for r in range(13) for s in range(4)]\n",
    "random.shuffle(deck)"
   ]
  },
  {
   "cell_type": "markdown",
   "metadata": {
    "colab_type": "text",
    "id": "0tlIyQ82AF64"
   },
   "source": [
    "Now create two hands, and deal out 5 cards to each:"
   ]
  },
  {
   "cell_type": "code",
   "execution_count": 55,
   "metadata": {
    "colab": {
     "autoexec": {
      "startup": false,
      "wait_interval": 0
     }
    },
    "colab_type": "code",
    "id": "smramIhKzNQk"
   },
   "outputs": [],
   "source": [
    "hand1 = Hand()\n",
    "hand2 = Hand()\n",
    "\n",
    "for i in range(10):\n",
    "    card = deck[i]\n",
    "\n",
    "    if i % 2 == 0:\n",
    "        hand1.deal(card)\n",
    "    else:\n",
    "        hand2.deal(card)"
   ]
  },
  {
   "cell_type": "code",
   "execution_count": 56,
   "metadata": {
    "colab": {
     "autoexec": {
      "startup": false,
      "wait_interval": 0
     },
     "base_uri": "https://localhost:8080/",
     "height": 34
    },
    "colab_type": "code",
    "executionInfo": {
     "elapsed": 1188,
     "status": "ok",
     "timestamp": 1521642686936,
     "user": {
      "displayName": "Rayno Mostert",
      "photoUrl": "https://lh3.googleusercontent.com/a/default-user=s128",
      "userId": "107056986412592388577"
     },
     "user_tz": -120
    },
    "id": "RmyvAXmFzNQy",
    "outputId": "45e6bf1a-4070-4a50-fcf8-de0522bcb325"
   },
   "outputs": [
    {
     "data": {
      "text/plain": [
       "king of spades, 10 of hearts, queen of hearts, ace of hearts, 6 of hearts"
      ]
     },
     "execution_count": 56,
     "metadata": {},
     "output_type": "execute_result"
    }
   ],
   "source": [
    "hand1"
   ]
  },
  {
   "cell_type": "code",
   "execution_count": 57,
   "metadata": {
    "colab": {
     "autoexec": {
      "startup": false,
      "wait_interval": 0
     },
     "base_uri": "https://localhost:8080/",
     "height": 34
    },
    "colab_type": "code",
    "executionInfo": {
     "elapsed": 1760,
     "status": "ok",
     "timestamp": 1521642688982,
     "user": {
      "displayName": "Rayno Mostert",
      "photoUrl": "https://lh3.googleusercontent.com/a/default-user=s128",
      "userId": "107056986412592388577"
     },
     "user_tz": -120
    },
    "id": "OxLALnkVAh14",
    "outputId": "45a0a56f-25c0-4adc-8754-8243802475f6"
   },
   "outputs": [
    {
     "data": {
      "text/plain": [
       "6 of spades, jack of clubs, 2 of hearts, 7 of spades, 4 of clubs"
      ]
     },
     "execution_count": 57,
     "metadata": {},
     "output_type": "execute_result"
    }
   ],
   "source": [
    "hand2"
   ]
  },
  {
   "cell_type": "markdown",
   "metadata": {
    "colab_type": "text",
    "id": "pTbalfWeA900"
   },
   "source": [
    "Now we can see who has the winning hand:"
   ]
  },
  {
   "cell_type": "code",
   "execution_count": 58,
   "metadata": {
    "colab": {
     "autoexec": {
      "startup": false,
      "wait_interval": 0
     },
     "base_uri": "https://localhost:8080/",
     "height": 69
    },
    "colab_type": "code",
    "executionInfo": {
     "elapsed": 1408,
     "status": "ok",
     "timestamp": 1521642690520,
     "user": {
      "displayName": "Rayno Mostert",
      "photoUrl": "https://lh3.googleusercontent.com/a/default-user=s128",
      "userId": "107056986412592388577"
     },
     "user_tz": -120
    },
    "id": "Al8moYyMAjFd",
    "outputId": "03df748d-cb7d-4b98-8592-84b40d07bd11"
   },
   "outputs": [
    {
     "name": "stdout",
     "output_type": "stream",
     "text": [
      "[False, False, False, False, False, False, False, False]\n",
      "[False, False, False, False, False, False, False, False]\n"
     ]
    },
    {
     "data": {
      "text/plain": [
       "'Tie.  Hand 1 wins via highest kicker...'"
      ]
     },
     "execution_count": 58,
     "metadata": {},
     "output_type": "execute_result"
    }
   ],
   "source": [
    "who_wins(hand1, hand2)"
   ]
  },
  {
   "cell_type": "markdown",
   "metadata": {
    "colab_type": "text",
    "id": "3ENiFJRwJm_g"
   },
   "source": [
    "## For Fun! Calculating Probabilities\n",
    "In order to be good at Poker, you need to understand probability theory. We're now going to investigate the probability of a specific hand being dealt - assuming our simplified version of poker where each player is just dealt 5 cards at random.\n",
    "\n",
    "We can start by figuring out all the possible 5-card combinations dealt from a pack of 52 cards:"
   ]
  },
  {
   "cell_type": "code",
   "execution_count": 59,
   "metadata": {
    "colab": {
     "autoexec": {
      "startup": false,
      "wait_interval": 0
     }
    },
    "colab_type": "code",
    "id": "y2U5vL9sJm_h"
   },
   "outputs": [],
   "source": [
    "deck = [Card(r, s) for r in range(13) for s in range(4)]\n",
    "\n",
    "from itertools import combinations\n",
    "combs = combinations(deck, 5)\n",
    "combs = list(combs)"
   ]
  },
  {
   "cell_type": "markdown",
   "metadata": {
    "colab_type": "text",
    "id": "T1nYwGoCJm_h"
   },
   "source": [
    "So, we see that there are possible 5-card combinations dealt from a 52-card deck:"
   ]
  },
  {
   "cell_type": "code",
   "execution_count": 60,
   "metadata": {
    "colab": {
     "autoexec": {
      "startup": false,
      "wait_interval": 0
     }
    },
    "colab_type": "code",
    "id": "V5n3lfMSJm_i",
    "outputId": "99bb8e09-1364-4c35-d69b-8d46dee83830"
   },
   "outputs": [
    {
     "data": {
      "text/plain": [
       "2598960"
      ]
     },
     "execution_count": 60,
     "metadata": {},
     "output_type": "execute_result"
    }
   ],
   "source": [
    "len(combs)"
   ]
  },
  {
   "cell_type": "markdown",
   "metadata": {
    "colab_type": "text",
    "id": "MZraFFAJJm_k"
   },
   "source": [
    "Next, let's only keep the combinations that are **straight flushes**:"
   ]
  },
  {
   "cell_type": "code",
   "execution_count": 61,
   "metadata": {
    "colab": {
     "autoexec": {
      "startup": false,
      "wait_interval": 0
     }
    },
    "colab_type": "code",
    "id": "UJoYrPoiJm_k"
   },
   "outputs": [],
   "source": [
    "straight_flushes = [c for c in combs if straight_flush(c)]"
   ]
  },
  {
   "cell_type": "markdown",
   "metadata": {
    "colab_type": "text",
    "id": "e9S5rUB5Jm_l"
   },
   "source": [
    "Count how many there are:"
   ]
  },
  {
   "cell_type": "code",
   "execution_count": 62,
   "metadata": {
    "colab": {
     "autoexec": {
      "startup": false,
      "wait_interval": 0
     }
    },
    "colab_type": "code",
    "id": "KvQ4gOqZJm_l",
    "outputId": "90af79b7-b97f-4476-d63b-96fa77d7c851"
   },
   "outputs": [
    {
     "data": {
      "text/plain": [
       "36"
      ]
     },
     "execution_count": 62,
     "metadata": {},
     "output_type": "execute_result"
    }
   ],
   "source": [
    "len(straight_flushes)"
   ]
  },
  {
   "cell_type": "markdown",
   "metadata": {
    "colab_type": "text",
    "id": "LjtoFqOtJm_n"
   },
   "source": [
    "Only $\\ 36\\ $ straight flushes out of a total of $\\ 2 598 960\\ $ 5-card combinations!\n",
    "\n",
    "So the probability of you being dealt a straigth flush is a miniscule $ 0.00001385$."
   ]
  },
  {
   "cell_type": "code",
   "execution_count": 63,
   "metadata": {
    "colab": {
     "autoexec": {
      "startup": false,
      "wait_interval": 0
     }
    },
    "colab_type": "code",
    "id": "eZwcp4CTJm_o",
    "outputId": "48c1366a-86d0-40e7-ec81-3f7ea92cc7e4"
   },
   "outputs": [
    {
     "data": {
      "text/plain": [
       "1.3851694523963431e-05"
      ]
     },
     "execution_count": 63,
     "metadata": {},
     "output_type": "execute_result"
    }
   ],
   "source": [
    "len(straight_flushes)/len(combs)"
   ]
  },
  {
   "cell_type": "markdown",
   "metadata": {
    "colab_type": "text",
    "id": "TWqQ79LCJm_q"
   },
   "source": [
    "Put differently, you'll - on average - need to deal $\\ 72\\  193\\ $ 5-card hands before ever seeing a single straight flush!"
   ]
  },
  {
   "cell_type": "code",
   "execution_count": 64,
   "metadata": {
    "colab": {
     "autoexec": {
      "startup": false,
      "wait_interval": 0
     }
    },
    "colab_type": "code",
    "id": "bV1L_gd3Jm_r",
    "outputId": "a8276b27-7add-44de-c4bf-16a68024ed37"
   },
   "outputs": [
    {
     "data": {
      "text/plain": [
       "72193.33333333333"
      ]
     },
     "execution_count": 64,
     "metadata": {},
     "output_type": "execute_result"
    }
   ],
   "source": [
    "len(combs)/len(straight_flushes)"
   ]
  },
  {
   "cell_type": "markdown",
   "metadata": {
    "colab_type": "text",
    "id": "L6fbkYPIJm_r"
   },
   "source": [
    "## Question 12: Hand Combination Probabilities\n",
    "\n",
    "***\n",
    "**Important:**\n",
    "You need to pass ALL the questions 1 to 12 (obtain a `True` result for all of the tests) in order to be able to continue with this question.\n",
    "\n",
    "***\n",
    "\n",
    "Write a function, **`hand_probabilities(hands)`**, that:\n",
    "- takes as an argument a `list` of `functions`s - each being one of the functions created above (each representing a 5-card hand combination),\n",
    "- `return`s a list containing the probability of each 5-card hand combination being dealt, respectively.\n",
    "- Round the probabilities to 8 decimal places.\n",
    "\n",
    "<br>\n",
    "### For example:\n",
    "\n",
    "<br>**for a list of:**\n",
    "  - `straight_flush`, \n",
    "  - `four_of_a_kind`,\n",
    "  - `full_house`,\n",
    "  - `is_flush`,\n",
    "  - `is_straight`,\n",
    "  - `three_of_a_kind`,\n",
    "  - `two_pair`, and\n",
    "  - `one_pair`.\n",
    "  \n",
    "<br>**your function should `return`:**\n",
    "  - the probability of a `straight_flush` being dealt,\n",
    "  - the probability of a `four_of_a_kind` being dealt, \n",
    "  - the probability of a `full_house` being dealt, \n",
    "  - the probability of a `is_flush` being dealt, \n",
    "  - the probability of a `is_straight` being dealt, \n",
    "  - the probability of a `three_of_a_kind` being dealt, \n",
    "  - the probability of a `two_pair` being dealt, and\n",
    "  - the probability of a `one_pair` being dealt.\n",
    "  "
   ]
  },
  {
   "cell_type": "code",
   "execution_count": 65,
   "metadata": {
    "colab": {
     "autoexec": {
      "startup": false,
      "wait_interval": 0
     }
    },
    "colab_type": "code",
    "id": "1timOU6zJm_s"
   },
   "outputs": [],
   "source": [
    "from itertools import combinations\n",
    "\n",
    "### START QUESTION 12\n",
    "\n",
    "def hand_probabilities(hands = [straight_flush, four_of_a_kind, full_house, is_flush, is_straight, three_of_a_kind, two_pair, one_pair]):\n",
    "  \n",
    "    ### BEGIN SOLUTION\n",
    "\n",
    "    deck = [Card(r, s) for r in range(13) for s in range(4)]\n",
    "\n",
    "    combs = combinations(deck, 5)\n",
    "    combs = list(combs)\n",
    "    prob_hands = []\n",
    "\n",
    "    for i in range(len(hands)):\n",
    "        print(\"Hand \" + str(i) + \":\")\n",
    "\n",
    "        hand = hands[i]\n",
    "        app_card_combinations = [hand(comb) for comb in combs]\n",
    "\n",
    "        prob = sum(app_card_combinations)/len(combs)\n",
    "        print(prob)\n",
    "        prob_hands.append(round(prob, 8))\n",
    "\n",
    "    ### END SOLUTION\n",
    "\n",
    "    return prob_hands\n",
    "\n",
    "### END QUESTION 12"
   ]
  },
  {
   "cell_type": "code",
   "execution_count": 66,
   "metadata": {
    "colab": {
     "autoexec": {
      "startup": false,
      "wait_interval": 0
     }
    },
    "colab_type": "code",
    "id": "mB298a_jJm_v",
    "outputId": "302b17fe-efee-4e9c-da36-a0b1fcc05d35"
   },
   "outputs": [
    {
     "name": "stdout",
     "output_type": "stream",
     "text": [
      "Hand 0:\n",
      "1.3851694523963431e-05\n",
      "Hand 1:\n",
      "0.00024009603841536616\n",
      "Hand 2:\n",
      "0.0014405762304921968\n",
      "Hand 3:\n",
      "0.0019807923169267707\n",
      "Hand 4:\n",
      "0.026179702650290886\n",
      "Hand 5:\n",
      "0.02256902761104442\n",
      "Hand 6:\n",
      "0.0475390156062425\n",
      "Hand 7:\n",
      "0.4225690276110444\n"
     ]
    }
   ],
   "source": [
    "hand_probs = hand_probabilities()"
   ]
  },
  {
   "cell_type": "markdown",
   "metadata": {
    "colab_type": "text",
    "id": "4M_7OK65Jm_x"
   },
   "source": [
    "***\n",
    "Make sure that your function returns a list formatted as follows:"
   ]
  },
  {
   "cell_type": "code",
   "execution_count": 67,
   "metadata": {
    "colab": {
     "autoexec": {
      "startup": false,
      "wait_interval": 0
     }
    },
    "colab_type": "code",
    "id": "WTK8sFK7Jm_x",
    "outputId": "ef2328ea-7623-4903-9bbd-1db6101792ef"
   },
   "outputs": [
    {
     "data": {
      "text/plain": [
       "True"
      ]
     },
     "execution_count": 67,
     "metadata": {},
     "output_type": "execute_result"
    }
   ],
   "source": [
    "hand_probs == [1.385e-05, 0.0002401, 0.00144058, 0.00198079, 0.0261797, 0.02256903, 0.04753902, 0.42256903]"
   ]
  }
 ],
 "metadata": {
  "colab": {
   "collapsed_sections": [
    "U-IbPbM7-8ml",
    "YKcPm71H_SDc",
    "4VoWy_1bx5s4",
    "uyKL2NV6SRQy"
   ],
   "default_view": {},
   "name": "Poker_Project_Model_Solutions.ipynb",
   "provenance": [],
   "version": "0.3.2",
   "views": {}
  },
  "kernelspec": {
   "display_name": "Python 3",
   "language": "python",
   "name": "python3"
  },
  "language_info": {
   "codemirror_mode": {
    "name": "ipython",
    "version": 3
   },
   "file_extension": ".py",
   "mimetype": "text/x-python",
   "name": "python",
   "nbconvert_exporter": "python",
   "pygments_lexer": "ipython3",
   "version": "3.6.5"
  },
  "toc": {
   "base_numbering": 1,
   "nav_menu": {},
   "number_sections": true,
   "sideBar": true,
   "skip_h1_title": false,
   "title_cell": "Table of Contents",
   "title_sidebar": "Contents",
   "toc_cell": false,
   "toc_position": {},
   "toc_section_display": true,
   "toc_window_display": true
  }
 },
 "nbformat": 4,
 "nbformat_minor": 1
}
