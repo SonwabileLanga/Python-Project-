{
 "cells": [
  {
   "cell_type": "markdown",
   "metadata": {
    "colab_type": "text",
    "id": "Y-iHJCekZ47N"
   },
   "source": [
    "# Project: Python Fundamentals\n",
    "\n",
    "You're appointed as a Software Developer at a new Development agency, \n",
    "\n",
    "In this project, you'll create software to give your clients financial advice."
   ]
  },
  {
   "cell_type": "markdown",
   "metadata": {
    "colab_type": "text",
    "id": "4OBoq2YHkZjj"
   },
   "source": [
    "***\n",
    "*** CODE OF CONDUCT: ***\n",
    "\n",
    "- You may use online resources for help, but you may not directly copy and paste any answers that are not your own.\n",
    "- You may not submit anyone else's work, but your own.\n",
    "- Every project will be sent through plagiarism detection software, and compared with every other project in the class.  If you are suspected of plagiarism you will receive zero for the assignment, together with a first disciplinary warning.\n",
    "\n",
    "***\n",
    "*** PROJECT RULES: ***\n",
    "\n",
    "- You may not import any external packages - all of the functions need to be solved ***WITHOUT THE USE OF EXTERNAL MODULES***.\n",
    "- ***Most importantly:*** your functions need to **`return`** the answer (not just print it out).\n",
    "- ***Do not add or remove any cells from this notebook***.  Use another notebook to experiment in (or in which to do your workings), but your submission may not have any additional cells or functions. \n",
    "- Only fill in code where the **`#YOUR CODE`**  tags appear. No code outside these areas (or outside the given functions) will be marked.\n",
    "\n"
   ]
  },
  {
   "cell_type": "markdown",
   "metadata": {
    "colab_type": "text",
    "id": "53GUiWszhw9R"
   },
   "source": [
    "## Function 1:  Savings Calculator\n",
    "\n",
    "Build a function **`savings_calculator(PMT, n, i)`**` that calculates your customer's savings at retirement, if they:\n",
    "- invest an amount, **`PMT`** at the end of every year (with the first payment in exactly one year's time from now),\n",
    "- for **`n` whole years**\n",
    "- at an interest rate of **`i`**% per year, compounded annually."
   ]
  },
  {
   "cell_type": "code",
   "execution_count": 1,
   "metadata": {
    "colab": {
     "autoexec": {
      "startup": false,
      "wait_interval": 0
     }
    },
    "colab_type": "code",
    "id": "o3HGpkBGZZcN",
    "nbgrader": {
     "grade": false,
     "grade_id": "savings_calculator_answer",
     "locked": false,
     "schema_version": 1,
     "solution": true
    }
   },
   "outputs": [],
   "source": [
    "### START FUNCTION 1\n",
    "\n",
    "def savings_calculator(PMT, n, i):\n",
    "    \n",
    "    ### BEGIN SOLUTION\n",
    "\n",
    "    # Start by setting the investment_balance equal to zero. We'll increase investment_balance in the for-loop\n",
    "    investment_balance = 0\n",
    "\n",
    "    for j in range(n):\n",
    "\n",
    "        # add the interest earned on our investment account\n",
    "        interest =  investment_balance * i\n",
    "        investment_balance = investment_balance + interest\n",
    "\n",
    "        # at the end of the year we add our bonus to the investment\n",
    "        investment_balance = investment_balance + PMT\n",
    "\n",
    "    FV = investment_balance\n",
    "\n",
    "    ### END SOLUTION\n",
    "\n",
    "    # Remember to round your answer to 2 decimal places:\n",
    "    FV = round(FV, 2)\n",
    "\n",
    "    return FV\n",
    "\n",
    "### END FUNCTION 1"
   ]
  },
  {
   "cell_type": "markdown",
   "metadata": {
    "colab_type": "text",
    "id": "0Hhs61WVkVfN"
   },
   "source": [
    "***IMPORTANT***: <br>\n",
    "Your function needs to **`return`** an `float` value ***rounded to 2 decimal places***.\n",
    "\n",
    "If your answer is not rounded correctly to 2 decimal places, you will receive 0 for the question.\n",
    "\n",
    "Make sure that the following tests all give a `True` result:"
   ]
  },
  {
   "cell_type": "code",
   "execution_count": 2,
   "metadata": {
    "colab": {
     "autoexec": {
      "startup": false,
      "wait_interval": 0
     },
     "base_uri": "https://localhost:8080/",
     "height": 34,
     "output_extras": [
      {
       "item_id": 1
      }
     ]
    },
    "colab_type": "code",
    "executionInfo": {
     "elapsed": 1402,
     "status": "ok",
     "timestamp": 1521134684334,
     "user": {
      "displayName": "Rayno Mostert",
      "photoUrl": "https://lh3.googleusercontent.com/a/default-user=s128",
      "userId": "107056986412592388577"
     },
     "user_tz": -120
    },
    "id": "eAPFgCVAj7JQ",
    "outputId": "a8691d9f-6f48-4f27-a4d4-4db96588954b"
   },
   "outputs": [
    {
     "data": {
      "text/plain": [
       "True"
      ]
     },
     "execution_count": 2,
     "metadata": {},
     "output_type": "execute_result"
    }
   ],
   "source": [
    "savings_calculator(20000, 15, 0.1) == 635449.63"
   ]
  },
  {
   "cell_type": "code",
   "execution_count": 3,
   "metadata": {
    "colab": {
     "autoexec": {
      "startup": false,
      "wait_interval": 0
     },
     "base_uri": "https://localhost:8080/",
     "height": 34,
     "output_extras": [
      {
       "item_id": 1
      }
     ]
    },
    "colab_type": "code",
    "executionInfo": {
     "elapsed": 1827,
     "status": "ok",
     "timestamp": 1521134686352,
     "user": {
      "displayName": "Rayno Mostert",
      "photoUrl": "https://lh3.googleusercontent.com/a/default-user=s128",
      "userId": "107056986412592388577"
     },
     "user_tz": -120
    },
    "id": "CnbJ8HFakDM2",
    "nbgrader": {
     "grade": true,
     "grade_id": "savings_calculator_tests",
     "locked": true,
     "points": 1,
     "schema_version": 1,
     "solution": false
    },
    "outputId": "01efb6b3-6cac-479e-9945-e5c90a240985"
   },
   "outputs": [
    {
     "data": {
      "text/plain": [
       "True"
      ]
     },
     "execution_count": 3,
     "metadata": {},
     "output_type": "execute_result"
    }
   ],
   "source": [
    "### BEGIN HIDDEN TESTS\n",
    "assert(savings_calculator(10000, 20, 0.1) >= 572740)\n",
    "assert(savings_calculator(10000, 20, 0.1) <= 572755)\n",
    "\n",
    "assert(savings_calculator(20000, 10, 0.104) >= 324920)\n",
    "assert(savings_calculator(20000, 10, 0.104) <= 324930)\n",
    "### END HIDDEN TESTS\n",
    "savings_calculator(10000, 20, 0.1) == 572749.99"
   ]
  },
  {
   "cell_type": "markdown",
   "metadata": {
    "colab_type": "text",
    "id": "42gFTL3qonAg"
   },
   "source": [
    "## Function 2:  Retirement Savings Calculator\n",
    "\n",
    "Build a function **`retirement_savings(PMT, i, start_age, end_age)`** that calculates your customer's savings at retirement, if they:\n",
    "- invest an amount, **`PMT`** at the end of every year (with the first payment made in exactly one year's time from now),\n",
    "- at an interest rate of **`i`**% per year, compounded annually.\n",
    "- They just turned **`start_age`** years old, and \n",
    "- they want to retire at the age of **`end_age`**\n",
    "\n",
    "<br><br>\n",
    "\n",
    "***IMPORTANT***: <br>\n",
    "Your function **may not call any of the other functions you've defined in this project** (i.e. you may not call `savings_calculator(PMT, n, i)` inside this function)\n",
    "\n",
    "You can assume that `start_age` < `end_age`, and both are positive integers."
   ]
  },
  {
   "cell_type": "code",
   "execution_count": 26,
   "metadata": {
    "colab": {
     "autoexec": {
      "startup": false,
      "wait_interval": 0
     }
    },
    "colab_type": "code",
    "id": "YJ4_S0poonAk",
    "nbgrader": {
     "grade": false,
     "grade_id": "retirement_savingsf_answer",
     "locked": false,
     "schema_version": 1,
     "solution": true
    }
   },
   "outputs": [],
   "source": [
    "### START FUNCTION 2\n",
    "\n",
    "def retirement_savings(PMT, i, start_age, end_age):\n",
    "\n",
    "    ### BEGIN SOLUTION\n",
    "\n",
    "    # Start by setting the investment_balance equal to zero. We'll increase investment_balance in the for-loop\n",
    "    investment_balance = 0\n",
    "\n",
    "    for j in range(end_age - start_age):\n",
    "\n",
    "        # add the interest earned on our investment account\n",
    "        interest =  investment_balance * i\n",
    "        investment_balance = investment_balance + interest\n",
    "\n",
    "        # at the end of the year we add our payment to the investment\n",
    "        investment_balance = investment_balance + PMT\n",
    "\n",
    "    FV = investment_balance\n",
    "\n",
    "    ### END SOLUTION\n",
    "\n",
    "    # Remember to round your answer to 2 decimal places:\n",
    "    FV = round(FV, 2)\n",
    "\n",
    "    return FV\n",
    "\n",
    "### END FUNCTION 2"
   ]
  },
  {
   "cell_type": "markdown",
   "metadata": {
    "colab_type": "text",
    "id": "DA0Ndo3qonAs"
   },
   "source": [
    "***IMPORTANT***: <br>\n",
    "Your function needs to **`return`** an `float` value ***rounded to 2 decimal places***.\n",
    "\n",
    "If your answer is not rounded correctly to 2 decimal places, you will receive 0 for the question.\n",
    "\n",
    "Make sure that the following tests all give a `True` result:"
   ]
  },
  {
   "cell_type": "code",
   "execution_count": 27,
   "metadata": {
    "colab": {
     "autoexec": {
      "startup": false,
      "wait_interval": 0
     },
     "base_uri": "https://localhost:8080/",
     "height": 34,
     "output_extras": [
      {
       "item_id": 1
      }
     ]
    },
    "colab_type": "code",
    "executionInfo": {
     "elapsed": 1210,
     "status": "ok",
     "timestamp": 1521134689422,
     "user": {
      "displayName": "Rayno Mostert",
      "photoUrl": "https://lh3.googleusercontent.com/a/default-user=s128",
      "userId": "107056986412592388577"
     },
     "user_tz": -120
    },
    "id": "6hY4vbnXonAx",
    "outputId": "a18a2cc4-6b9f-4683-e896-9ef92bffd095"
   },
   "outputs": [
    {
     "data": {
      "text/plain": [
       "True"
      ]
     },
     "execution_count": 27,
     "metadata": {},
     "output_type": "execute_result"
    }
   ],
   "source": [
    "retirement_savings(20000, 0.1, 20, 35) == 635449.63"
   ]
  },
  {
   "cell_type": "code",
   "execution_count": 28,
   "metadata": {
    "colab": {
     "autoexec": {
      "startup": false,
      "wait_interval": 0
     },
     "base_uri": "https://localhost:8080/",
     "height": 34,
     "output_extras": [
      {
       "item_id": 1
      }
     ]
    },
    "colab_type": "code",
    "executionInfo": {
     "elapsed": 1186,
     "status": "ok",
     "timestamp": 1521134690775,
     "user": {
      "displayName": "Rayno Mostert",
      "photoUrl": "https://lh3.googleusercontent.com/a/default-user=s128",
      "userId": "107056986412592388577"
     },
     "user_tz": -120
    },
    "id": "dhUN8TYQonA7",
    "nbgrader": {
     "grade": true,
     "grade_id": "retirement_savings_tests",
     "locked": true,
     "points": 1,
     "schema_version": 1,
     "solution": false
    },
    "outputId": "ddc5eee0-bf7f-4ce4-8b0c-17bd3bc3cd08"
   },
   "outputs": [
    {
     "data": {
      "text/plain": [
       "True"
      ]
     },
     "execution_count": 28,
     "metadata": {},
     "output_type": "execute_result"
    }
   ],
   "source": [
    "### BEGIN HIDDEN TESTS\n",
    "assert(retirement_savings(20000, 0.1, 20, 35) >= 635445)\n",
    "assert(retirement_savings(20000, 0.1, 20, 35) <= 635500)\n",
    "\n",
    "assert(retirement_savings(10000, 0.1, 40, 60) >= 572740)\n",
    "assert(retirement_savings(10000, 0.1, 40, 60) <= 572760)\n",
    "### END HIDDEN TESTS\n",
    "retirement_savings(10000, 0.1, 40, 60) == 572749.99"
   ]
  },
  {
   "cell_type": "markdown",
   "metadata": {
    "colab_type": "text",
    "id": "mO1S--GUq1cz"
   },
   "source": [
    "## Function 3:  Retirement Age Calculator\n",
    "\n",
    "Build a function **`retirement_age(PMT, i, FV, start_age)`** that calculates the (whole) age at which your customer can retire, if they:\n",
    "- invest an amount, **`PMT`** at the END of every YEAR (with the first payment made exactly one year from now),\n",
    "- at an interest rate of **`i`**% per year, compounded annually.\n",
    "- They require an amount of AT LEAST **`FV`** in order to be able to afford retirement.\n",
    "- They just turned **`start_age`** years old.\n",
    "\n",
    "<br><br>\n",
    "\n",
    "***IMPORTANT***: <br>\n",
    "Your function **may not call any of the other functions you've defined in this project** (i.e. you may not call `savings_calculator(PMT, n, i)` or `retirement_savings(PMT, i, start_age, end_age)` inside this function)\n",
    "\n",
    "You can assume that `start_age` is a positive integer."
   ]
  },
  {
   "cell_type": "code",
   "execution_count": 29,
   "metadata": {
    "colab": {
     "autoexec": {
      "startup": false,
      "wait_interval": 0
     }
    },
    "colab_type": "code",
    "id": "28Y6c7hhq1c1",
    "nbgrader": {
     "grade": false,
     "grade_id": "retirement_age_answer",
     "locked": false,
     "schema_version": 1,
     "solution": true
    }
   },
   "outputs": [],
   "source": [
    "### START FUNCTION 3\n",
    "\n",
    "def retirement_age(PMT, i, FV, start_age):\n",
    "  \n",
    "    ### BEGIN SOLUTION\n",
    "\n",
    "    # Start by setting the investment_balance equal to zero. We'll increase investment_balance in the for-loop\n",
    "    investment_balance = 0\n",
    "\n",
    "    age = start_age\n",
    "\n",
    "    # Stop looping if the balance of the investment fund is more than the funds they require, FV:\n",
    "    while investment_balance < FV:\n",
    "\n",
    "        # add the interest earned on our investment account\n",
    "        interest =  investment_balance * i\n",
    "        investment_balance = investment_balance + interest\n",
    "\n",
    "        # at the end of the year we add our payment to the investment\n",
    "        investment_balance = investment_balance + PMT\n",
    "\n",
    "        age = age + 1\n",
    "\n",
    "    ### END SOLUTION\n",
    "\n",
    "    return int(age)\n",
    "\n",
    "### END FUNCTION 3"
   ]
  },
  {
   "cell_type": "markdown",
   "metadata": {
    "colab_type": "text",
    "id": "fuSjDPB1q1c6"
   },
   "source": [
    "***IMPORTANT***: <br>\n",
    "Your function needs to **`return`** an **`int`** value ***rounded to 2 decimal places***.\n",
    "\n",
    "If your answer is not rounded correctly to 2 decimal places, you will receive 0 for the question.\n",
    "\n",
    "Make sure that the following tests all give a `True` result:"
   ]
  },
  {
   "cell_type": "code",
   "execution_count": 30,
   "metadata": {
    "colab": {
     "autoexec": {
      "startup": false,
      "wait_interval": 0
     },
     "base_uri": "https://localhost:8080/",
     "height": 34,
     "output_extras": [
      {
       "item_id": 1
      }
     ]
    },
    "colab_type": "code",
    "executionInfo": {
     "elapsed": 2032,
     "status": "ok",
     "timestamp": 1521366717359,
     "user": {
      "displayName": "Rayno Mostert",
      "photoUrl": "https://lh3.googleusercontent.com/a/default-user=s128",
      "userId": "107056986412592388577"
     },
     "user_tz": -120
    },
    "id": "OcdkNDw1r-ez",
    "outputId": "e286a12b-4bf6-4cc9-c52d-4f77f5b1de61"
   },
   "outputs": [
    {
     "data": {
      "text/plain": [
       "True"
      ]
     },
     "execution_count": 30,
     "metadata": {},
     "output_type": "execute_result"
    }
   ],
   "source": [
    "retirement_age(20000, 0.1, 635339.63, 20) == 35"
   ]
  },
  {
   "cell_type": "code",
   "execution_count": 9,
   "metadata": {
    "colab": {
     "autoexec": {
      "startup": false,
      "wait_interval": 0
     },
     "base_uri": "https://localhost:8080/",
     "height": 34,
     "output_extras": [
      {
       "item_id": 1
      }
     ]
    },
    "colab_type": "code",
    "executionInfo": {
     "elapsed": 1136,
     "status": "ok",
     "timestamp": 1521366720040,
     "user": {
      "displayName": "Rayno Mostert",
      "photoUrl": "https://lh3.googleusercontent.com/a/default-user=s128",
      "userId": "107056986412592388577"
     },
     "user_tz": -120
    },
    "id": "5V1yJGkKse52",
    "nbgrader": {
     "grade": true,
     "grade_id": "retirement_age_tests",
     "locked": true,
     "points": 1,
     "schema_version": 1,
     "solution": false
    },
    "outputId": "d997b609-337f-4063-c2c3-7dc0c7941236"
   },
   "outputs": [
    {
     "data": {
      "text/plain": [
       "True"
      ]
     },
     "execution_count": 9,
     "metadata": {},
     "output_type": "execute_result"
    }
   ],
   "source": [
    "### BEGIN HIDDEN TESTS\n",
    "assert(retirement_age(20000, 0.1, 635339.63, 20) == 35)\n",
    "assert(retirement_age(10000, 0.001, 5.63, 20) == 21)\n",
    "### END HIDDEN TESTS\n",
    "retirement_age(10000, 0.1, 572749.99, 40) == 60"
   ]
  },
  {
   "cell_type": "markdown",
   "metadata": {
    "colab_type": "text",
    "id": "fz7TNoNatBtv"
   },
   "source": [
    "## Function 4:  Home Loan Affordability Calculator\n",
    "\n",
    "Build a function **`maximum_home_loan(PMT, i, n)`** that calculates the maximum home loan that your customer can afford, if they:\n",
    "- can afford to pay an amount, **`PMT`** at the END of every YEAR (with the first payment made exactly one year from now),\n",
    "- at an interest rate of **`i`**% per year, compounded annually, and\n",
    "- pay off the home over a term of **`n`** years.\n",
    "\n",
    "<br><br>\n",
    "\n",
    "***IMPORTANT***: <br>\n",
    "Your function **may not call any of the other functions you've defined in this project** \n",
    "\n",
    "Calculate the loan as the **present value of the future down-payments on the loan, discounted at an interest rate of i% per year**. (Use the present value of an annuity formula, a.k.a. discounted cash flow valuation - https://www.investopedia.com/walkthrough/corporate-finance/3/discounted-cash-flow/introduction.aspx)"
   ]
  },
  {
   "cell_type": "code",
   "execution_count": 10,
   "metadata": {
    "colab": {
     "autoexec": {
      "startup": false,
      "wait_interval": 0
     }
    },
    "colab_type": "code",
    "id": "mnK7JpmEtBtx",
    "nbgrader": {
     "grade": false,
     "grade_id": "maximum_home_loan_answer",
     "locked": false,
     "schema_version": 1,
     "solution": true
    }
   },
   "outputs": [],
   "source": [
    "### START FUNCTION 4\n",
    "\n",
    "def maximum_home_loan(PMT, i, n):\n",
    "\n",
    "    ### BEGIN SOLUTION\n",
    "\n",
    "    # Start by setting the investment_balance equal to zero. We'll increase investment_balance in the for-loop\n",
    "    total_present_value = 0\n",
    "\n",
    "    for j in range(n):\n",
    "        present_value_payment = PMT/((1 + i)**(j+1))\n",
    "        total_present_value = total_present_value + present_value_payment\n",
    "\n",
    "    ### END SOLUTION\n",
    "    \n",
    "    \n",
    "    PV = round(total_present_value, 2)\n",
    "    return PV\n",
    "\n",
    "\n",
    "### END FUNCTION 4"
   ]
  },
  {
   "cell_type": "markdown",
   "metadata": {
    "colab_type": "text",
    "id": "JmHEOMGmtBt3"
   },
   "source": [
    "***IMPORTANT***: <br>\n",
    "Your function needs to **`return`** an `float` value ***correctly rounded to 2 decimal places***.\n",
    "\n",
    "If your answer is not rounded correctly to 2 decimal places, you will receive 0 for the question.\n",
    "\n",
    "Make sure that the following tests all give a `True` result:"
   ]
  },
  {
   "cell_type": "code",
   "execution_count": 11,
   "metadata": {
    "colab": {
     "autoexec": {
      "startup": false,
      "wait_interval": 0
     },
     "base_uri": "https://localhost:8080/",
     "height": 34,
     "output_extras": [
      {
       "item_id": 1
      }
     ]
    },
    "colab_type": "code",
    "executionInfo": {
     "elapsed": 1095,
     "status": "ok",
     "timestamp": 1521366194607,
     "user": {
      "displayName": "Rayno Mostert",
      "photoUrl": "https://lh3.googleusercontent.com/a/default-user=s128",
      "userId": "107056986412592388577"
     },
     "user_tz": -120
    },
    "id": "Itfbe5dTtBt4",
    "outputId": "700a63c8-83cb-4f5c-a686-c9311d948534"
   },
   "outputs": [
    {
     "data": {
      "text/plain": [
       "True"
      ]
     },
     "execution_count": 11,
     "metadata": {},
     "output_type": "execute_result"
    }
   ],
   "source": [
    "maximum_home_loan(15000*12, 0.1045, 30) == 1635153.79"
   ]
  },
  {
   "cell_type": "code",
   "execution_count": 12,
   "metadata": {
    "colab": {
     "autoexec": {
      "startup": false,
      "wait_interval": 0
     },
     "base_uri": "https://localhost:8080/",
     "height": 34,
     "output_extras": [
      {
       "item_id": 1
      }
     ]
    },
    "colab_type": "code",
    "executionInfo": {
     "elapsed": 1211,
     "status": "ok",
     "timestamp": 1521366241651,
     "user": {
      "displayName": "Rayno Mostert",
      "photoUrl": "https://lh3.googleusercontent.com/a/default-user=s128",
      "userId": "107056986412592388577"
     },
     "user_tz": -120
    },
    "id": "ET8esvX0tBuF",
    "nbgrader": {
     "grade": true,
     "grade_id": "maximum_home_loan_tests",
     "locked": true,
     "points": 1,
     "schema_version": 1,
     "solution": false
    },
    "outputId": "c851beca-4681-478f-e893-425419791e02"
   },
   "outputs": [
    {
     "data": {
      "text/plain": [
       "True"
      ]
     },
     "execution_count": 12,
     "metadata": {},
     "output_type": "execute_result"
    }
   ],
   "source": [
    "### BEGIN HIDDEN TESTS\n",
    "assert(maximum_home_loan(100000, 0.1045, 30) >= 908415)\n",
    "assert(maximum_home_loan(100000, 0.1045, 30) <= 908425)\n",
    "\n",
    "assert(maximum_home_loan(150, 0.00001, 30) >= 4400)\n",
    "assert(maximum_home_loan(150, 0.00001, 30) <= 4550)\n",
    "### END HIDDEN TESTS\n",
    "maximum_home_loan(15000*12, 0.1045, 25) == 1578934.73"
   ]
  },
  {
   "cell_type": "markdown",
   "metadata": {
    "colab_type": "text",
    "id": "syK8HzfTYMtg"
   },
   "source": [
    "## Function 5:  Home Loan Affordability Calculator\n",
    "\n",
    "Build a function **`maximum_home_loan_with_age(PMT, i, start_age)`** that calculates the maximum home loan that your customer can afford, if they:\n",
    "- can afford to pay an amount, **`PMT`** at the every year on their birthday (starting from their next birthday),\n",
    "- at an interest rate of **`i`**% per year, compounded annually, \n",
    "- they just turned **`n`** years old, and they\n",
    "- pay off the loan until they turn **`65 years old`**.  I.e. their last payment is on their 65th birthday.\n",
    "\n",
    "<br><br>\n",
    "\n",
    "***IMPORTANT***: <br>\n",
    "Your function **may not call any of the other functions you've defined in this project**.\n",
    "\n",
    "Assume that **`start_age`** is an `int` value, and **`start_age < 65`**.\n",
    "\n",
    "\n",
    "Just like in Function 4, calculate the loan as the **present value of the future down-payments on the loan, discounted at an interest rate of i% per year**. (Use the present value of an annuity formula, a.k.a. discounted cash flow valuation - https://www.investopedia.com/walkthrough/corporate-finance/3/discounted-cash-flow/introduction.aspx)"
   ]
  },
  {
   "cell_type": "code",
   "execution_count": 13,
   "metadata": {
    "colab": {
     "autoexec": {
      "startup": false,
      "wait_interval": 0
     }
    },
    "colab_type": "code",
    "id": "nI5bnhw_YMtm",
    "nbgrader": {
     "grade": false,
     "grade_id": "maximum_home_loan_with_age_answer",
     "locked": false,
     "schema_version": 1,
     "solution": true
    }
   },
   "outputs": [],
   "source": [
    "### START FUNCTION 5\n",
    "\n",
    "def maximum_home_loan_with_age(PMT, i, start_age):\n",
    "  \n",
    "    ### BEGIN SOLUTION\n",
    "    # Start by setting the investment_balance equal to zero. We'll increase investment_balance in the for-loop\n",
    "    total_present_value = 0\n",
    "    n = 65 - start_age\n",
    "    \n",
    "    for j in range(n):\n",
    "        present_value_payment = PMT/((1 + i)**(j+1))\n",
    "        total_present_value = total_present_value + present_value_payment\n",
    "\n",
    "    ### END SOLUTION\n",
    "    \n",
    "    \n",
    "    PV = round(total_present_value, 2)\n",
    "    return PV\n",
    "\n",
    "### END FUNCTION 5"
   ]
  },
  {
   "cell_type": "markdown",
   "metadata": {
    "colab_type": "text",
    "id": "VPyg4hufYMty"
   },
   "source": [
    "***IMPORTANT***: <br>\n",
    "Your function needs to **`return`** an `float` value ***correctly rounded to 2 decimal places***.\n",
    "\n",
    "If your answer is not rounded correctly to 2 decimal places, you will receive 0 for the question.\n",
    "\n",
    "Make sure that the following tests all give a `True` result:"
   ]
  },
  {
   "cell_type": "code",
   "execution_count": 14,
   "metadata": {
    "colab": {
     "autoexec": {
      "startup": false,
      "wait_interval": 0
     },
     "base_uri": "https://localhost:8080/",
     "height": 34,
     "output_extras": [
      {
       "item_id": 1
      }
     ]
    },
    "colab_type": "code",
    "executionInfo": {
     "elapsed": 1720,
     "status": "ok",
     "timestamp": 1521366067102,
     "user": {
      "displayName": "Rayno Mostert",
      "photoUrl": "https://lh3.googleusercontent.com/a/default-user=s128",
      "userId": "107056986412592388577"
     },
     "user_tz": -120
    },
    "id": "I0zJEUcwYMt2",
    "outputId": "8beb325b-0e44-4386-c05c-2d6660221522"
   },
   "outputs": [
    {
     "data": {
      "text/plain": [
       "True"
      ]
     },
     "execution_count": 14,
     "metadata": {},
     "output_type": "execute_result"
    }
   ],
   "source": [
    "maximum_home_loan_with_age(15000*12, 0.1045, 35)  == 1635153.79"
   ]
  },
  {
   "cell_type": "code",
   "execution_count": 15,
   "metadata": {
    "colab": {
     "autoexec": {
      "startup": false,
      "wait_interval": 0
     },
     "base_uri": "https://localhost:8080/",
     "height": 34,
     "output_extras": [
      {
       "item_id": 1
      }
     ]
    },
    "colab_type": "code",
    "executionInfo": {
     "elapsed": 1293,
     "status": "ok",
     "timestamp": 1521366259873,
     "user": {
      "displayName": "Rayno Mostert",
      "photoUrl": "https://lh3.googleusercontent.com/a/default-user=s128",
      "userId": "107056986412592388577"
     },
     "user_tz": -120
    },
    "id": "2ld9DE8dYMuE",
    "nbgrader": {
     "grade": true,
     "grade_id": "maximum_home_loan_with_age_tests",
     "locked": true,
     "points": 1,
     "schema_version": 1,
     "solution": false
    },
    "outputId": "8758968d-5943-4cd1-e8e5-01489d1d02ac"
   },
   "outputs": [
    {
     "data": {
      "text/plain": [
       "True"
      ]
     },
     "execution_count": 15,
     "metadata": {},
     "output_type": "execute_result"
    }
   ],
   "source": [
    "### BEGIN HIDDEN TESTS\n",
    "assert(maximum_home_loan_with_age(100000, 0.1045, 30) >= 927400)\n",
    "assert(maximum_home_loan_with_age(100000, 0.1045, 30) <= 927500)\n",
    "\n",
    "assert(maximum_home_loan_with_age(150, 0.00001, 30) >= 5240)\n",
    "assert(maximum_home_loan_with_age(150, 0.00001, 30) <= 5260)\n",
    "### END HIDDEN TESTS\n",
    "maximum_home_loan_with_age(15000*12, 0.1045, 40) == 1578934.73"
   ]
  },
  {
   "cell_type": "markdown",
   "metadata": {
    "colab_type": "text",
    "id": "i_SzEp-rFlD4"
   },
   "source": [
    "## Function 6:  Loan Pay-Off Period Calculator\n",
    "\n",
    "Write a function **`pay_off_period(PV, PMT, i)`** that calculates the minimum number of years left until a loan is fully paid off, if:\n",
    "- the amount owned on the loan is currently equal to **`PV`**,\n",
    "- the loan is repaid at an amount, **`PMT`** at the END of every YEAR (with the first payment exactly 1 year from now),\n",
    "- at an interest rate of **`i`**% per year, compounded annually.\n",
    "\n",
    "<br><br>\n",
    "\n",
    "***IMPORTANT***: <br>\n",
    "Your function **may not call any of the other functions you've defined in this project**.\n",
    "\n",
    "\n",
    "Just like in Function 4 and 5, calculate the loan as the **present value of the future down-payments on the loan, discounted at an interest rate of i% per year**. (Use the present value of an annuity formula, a.k.a. discounted cash flow valuation - https://www.investopedia.com/walkthrough/corporate-finance/3/discounted-cash-flow/introduction.aspx)"
   ]
  },
  {
   "cell_type": "code",
   "execution_count": 16,
   "metadata": {
    "colab": {
     "autoexec": {
      "startup": false,
      "wait_interval": 0
     }
    },
    "colab_type": "code",
    "id": "Jm-0KH_1FlEA",
    "nbgrader": {
     "grade": false,
     "grade_id": "pay_off_period_answer",
     "locked": false,
     "schema_version": 1,
     "solution": true
    }
   },
   "outputs": [],
   "source": [
    "### START FUNCTION 6\n",
    "\n",
    "def pay_off_period(PV, PMT, i):\n",
    "  \n",
    "    ### BEGIN SOLUTION\n",
    "    \n",
    "    # Start by setting the total_present_value equal to zero. We'll increase investment_balance in the for-loop\n",
    "    total_present_value = 0\n",
    "\n",
    "    n = 0\n",
    "    while total_present_value < PV:\n",
    "        present_value_payment = PMT/((1 + i)**(n + 1))\n",
    "        total_present_value = total_present_value + present_value_payment\n",
    "\n",
    "        n = n + 1\n",
    "\n",
    "    ### END SOLUTION\n",
    "    \n",
    "    \n",
    "    return int(n)\n",
    "\n",
    "### END FUNCTION 6"
   ]
  },
  {
   "cell_type": "markdown",
   "metadata": {
    "colab_type": "text",
    "id": "zW9xzHH2FlEK"
   },
   "source": [
    "***IMPORTANT***: <br>\n",
    "Your function needs to **`return`** an **`int`**.\n",
    "\n",
    "Make sure that the following tests all give a `True` result:"
   ]
  },
  {
   "cell_type": "code",
   "execution_count": 17,
   "metadata": {
    "colab": {
     "autoexec": {
      "startup": false,
      "wait_interval": 0
     },
     "base_uri": "https://localhost:8080/",
     "height": 34,
     "output_extras": [
      {
       "item_id": 1
      }
     ]
    },
    "colab_type": "code",
    "executionInfo": {
     "elapsed": 1317,
     "status": "ok",
     "timestamp": 1521376305717,
     "user": {
      "displayName": "Rayno Mostert",
      "photoUrl": "https://lh3.googleusercontent.com/a/default-user=s128",
      "userId": "107056986412592388577"
     },
     "user_tz": -120
    },
    "id": "ijilqZ-OFlEN",
    "outputId": "9480b47c-b528-4446-8f5e-5719ef994c45"
   },
   "outputs": [
    {
     "data": {
      "text/plain": [
       "True"
      ]
     },
     "execution_count": 17,
     "metadata": {},
     "output_type": "execute_result"
    }
   ],
   "source": [
    "pay_off_period(1635153, 15000*12, 0.1045) == 30"
   ]
  },
  {
   "cell_type": "code",
   "execution_count": 18,
   "metadata": {
    "colab": {
     "autoexec": {
      "startup": false,
      "wait_interval": 0
     },
     "base_uri": "https://localhost:8080/",
     "height": 34,
     "output_extras": [
      {
       "item_id": 1
      }
     ]
    },
    "colab_type": "code",
    "executionInfo": {
     "elapsed": 980,
     "status": "ok",
     "timestamp": 1521376306836,
     "user": {
      "displayName": "Rayno Mostert",
      "photoUrl": "https://lh3.googleusercontent.com/a/default-user=s128",
      "userId": "107056986412592388577"
     },
     "user_tz": -120
    },
    "id": "XiU8DcpfFlEY",
    "nbgrader": {
     "grade": true,
     "grade_id": "pay_off_period_tests",
     "locked": true,
     "points": 1,
     "schema_version": 1,
     "solution": false
    },
    "outputId": "a43dcdbf-db26-4ad9-f778-8a3607e7c4ee"
   },
   "outputs": [
    {
     "data": {
      "text/plain": [
       "True"
      ]
     },
     "execution_count": 18,
     "metadata": {},
     "output_type": "execute_result"
    }
   ],
   "source": [
    "### BEGIN HIDDEN TESTS\n",
    "assert(pay_off_period(1635153, 15000*12, 0.1045) == 30)\n",
    "assert(pay_off_period(1635153, 15000*12, 0.05) == 13)\n",
    "assert(pay_off_period(10, 1, 0.05) >= 15)\n",
    "### END HIDDEN TESTS\n",
    "pay_off_period(1578934, 15000*12, 0.1045) == 25"
   ]
  },
  {
   "cell_type": "markdown",
   "metadata": {
    "colab_type": "text",
    "id": "8HrDTdcsGJL0"
   },
   "source": [
    "## Function 7:  Investment Calculator\n",
    "\n",
    "Write a function **`investment(PMT, n, i)`** that calculates your customer's savings at some point in the future, if:\n",
    "- an amount  is invested at the END of every year, starting with amount of **`PMT`** at the end of this year,\n",
    "- at an interest rate of **`i`**% per year, compounded annually,\n",
    "- the investment amount **doubles every second year** (cumulatively).\n",
    "\n",
    "<br><br>\n",
    "\n",
    "***IMPORTANT***: <br>\n",
    "Your function **may not call any of the other functions you've defined in this project**."
   ]
  },
  {
   "cell_type": "code",
   "execution_count": 19,
   "metadata": {
    "colab": {
     "autoexec": {
      "startup": false,
      "wait_interval": 0
     }
    },
    "colab_type": "code",
    "id": "mCikydTGGJMI",
    "nbgrader": {
     "grade": false,
     "grade_id": "investment_answer",
     "locked": false,
     "schema_version": 1,
     "solution": true
    }
   },
   "outputs": [],
   "source": [
    "### START FUNCTION 7\n",
    "\n",
    "def investment(PMT, n, i):\n",
    "  \n",
    "    ### BEGIN SOLUTION\n",
    "\n",
    "\n",
    "    # Start by setting the investment_balance equal to zero. We'll increase investment_balance in the for-loop\n",
    "    investment_balance = 0\n",
    "\n",
    "    # Start by setting the current_investment_amount equal to zero. We'll increase current_investment_amount in the for-loop (for every second year)\n",
    "    current_investment_amount = PMT\n",
    "\n",
    "    for j in range(n):\n",
    "\n",
    "        if (j+1) % 2 == 0:\n",
    "            current_investment_amount = current_investment_amount*2\n",
    "\n",
    "        # add the interest earned on our investment account\n",
    "        interest =  investment_balance * i\n",
    "        investment_balance = investment_balance + interest\n",
    "\n",
    "        # at the end of the year we add our bonus to the investment\n",
    "        investment_balance = investment_balance + current_investment_amount\n",
    "\n",
    "\n",
    "    ### END SOLUTION\n",
    "    \n",
    "    \n",
    "    return round(investment_balance, 2)\n",
    "\n",
    "### END FUNCTION 7"
   ]
  },
  {
   "cell_type": "markdown",
   "metadata": {
    "colab_type": "text",
    "id": "d4Cm7kg0GJMV"
   },
   "source": [
    "***IMPORTANT***: <br>\n",
    "Your function needs to **`return`** an `float` value ***correctly rounded to 2 decimal places***.\n",
    "\n",
    "If your answer is not rounded correctly to 2 decimal places, you will receive 0 for the question.\n",
    "\n",
    "Make sure that the following tests all give a `True` result:"
   ]
  },
  {
   "cell_type": "code",
   "execution_count": 56,
   "metadata": {
    "colab": {
     "autoexec": {
      "startup": false,
      "wait_interval": 0
     },
     "base_uri": "https://localhost:8080/",
     "height": 34,
     "output_extras": [
      {
       "item_id": 1
      }
     ]
    },
    "colab_type": "code",
    "executionInfo": {
     "elapsed": 928,
     "status": "ok",
     "timestamp": 1521377632361,
     "user": {
      "displayName": "Rayno Mostert",
      "photoUrl": "https://lh3.googleusercontent.com/a/default-user=s128",
      "userId": "107056986412592388577"
     },
     "user_tz": -120
    },
    "id": "CpfHhDtrGJMZ",
    "outputId": "cb406a71-2c7c-4793-c8e3-996261691555"
   },
   "outputs": [
    {
     "data": {
      "text/plain": [
       "True"
      ]
     },
     "execution_count": 56,
     "metadata": {},
     "output_type": "execute_result"
    }
   ],
   "source": [
    "investment(15000, 30, 0.1045) == 1954935238.47"
   ]
  },
  {
   "cell_type": "code",
   "execution_count": 22,
   "metadata": {
    "colab": {
     "autoexec": {
      "startup": false,
      "wait_interval": 0
     },
     "base_uri": "https://localhost:8080/",
     "height": 34,
     "output_extras": [
      {
       "item_id": 1
      }
     ]
    },
    "colab_type": "code",
    "executionInfo": {
     "elapsed": 781,
     "status": "ok",
     "timestamp": 1521377699924,
     "user": {
      "displayName": "Rayno Mostert",
      "photoUrl": "https://lh3.googleusercontent.com/a/default-user=s128",
      "userId": "107056986412592388577"
     },
     "user_tz": -120
    },
    "id": "9UG1tJqCGJMj",
    "nbgrader": {
     "grade": true,
     "grade_id": "investment_tests",
     "locked": true,
     "points": 1,
     "schema_version": 1,
     "solution": false
    },
    "outputId": "2f483b30-0533-4515-8074-5eef4baf640f"
   },
   "outputs": [],
   "source": [
    "### BEGIN HIDDEN TESTS\n",
    "assert(investment(10000, 30, 0.1045) >= 1303290100)\n",
    "assert(investment(10000, 30, 0.1045) <= 1303290200)\n",
    "\n",
    "\n",
    "assert(investment(20000, 20, 0.05) >= 69417400)\n",
    "assert(investment(20000, 20, 0.05) <= 69417500)\n",
    "\n",
    "assert(investment(1, 20, 0.05) >= 3460)\n",
    "assert(investment(1, 20, 0.05) <= 3480)\n",
    "### END HIDDEN TESTS\n",
    "investment(10000, 40, 0.1045) == 41728281751.16"
   ]
  },
  {
   "cell_type": "code",
   "execution_count": null,
   "metadata": {},
   "outputs": [],
   "source": []
  }
 ],
 "metadata": {
  "celltoolbar": "Create Assignment",
  "colab": {
   "collapsed_sections": [],
   "default_view": {},
   "name": "Project.ipynb",
   "provenance": [],
   "version": "0.3.2",
   "views": {}
  },
  "kernelspec": {
   "display_name": "Python 3",
   "language": "python",
   "name": "python3"
  },
  "language_info": {
   "codemirror_mode": {
    "name": "ipython",
    "version": 3
   },
   "file_extension": ".py",
   "mimetype": "text/x-python",
   "name": "python",
   "nbconvert_exporter": "python",
   "pygments_lexer": "ipython3",
   "version": "3.6.3"
  }
 },
 "nbformat": 4,
 "nbformat_minor": 1
}
