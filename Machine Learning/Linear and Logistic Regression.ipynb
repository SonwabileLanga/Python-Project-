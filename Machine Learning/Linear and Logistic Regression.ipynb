{
 "cells": [
  {
   "cell_type": "markdown",
   "metadata": {},
   "source": [
    "# Machine Learning Algorithms - Predict Solutions"
   ]
  },
  {
   "cell_type": "markdown",
   "metadata": {},
   "source": [
    "Below is the proposed model solution for the Predict deliverable of Machine Learning Algorithms. We will start by pre-processing the data."
   ]
  },
  {
   "cell_type": "markdown",
   "metadata": {},
   "source": [
    "## Pre-processing"
   ]
  },
  {
   "cell_type": "markdown",
   "metadata": {},
   "source": [
    "### Import Data"
   ]
  },
  {
   "cell_type": "code",
   "execution_count": 1,
   "metadata": {},
   "outputs": [],
   "source": [
    "import numpy as np\n",
    "import pandas as pd\n",
    "import matplotlib.pyplot as plt\n",
    "import seaborn as sns\n",
    "% matplotlib inline\n",
    "from sklearn.preprocessing import StandardScaler\n",
    "from sklearn.model_selection import train_test_split\n",
    "from sklearn.linear_model import LinearRegression\n",
    "from sklearn.linear_model import LogisticRegression\n",
    "from sklearn.linear_model import Ridge\n",
    "from sklearn.linear_model import Lasso\n",
    "from sklearn.metrics import mean_squared_error\n",
    "from sklearn.metrics import mean_absolute_error\n",
    "from sklearn.metrics import confusion_matrix\n",
    "from sklearn.metrics import classification_report\n",
    "from sklearn.metrics import precision_recall_fscore_support as score\n",
    "\n",
    "df = pd.read_csv('data.csv').drop('Unnamed: 0', axis=1)"
   ]
  },
  {
   "cell_type": "markdown",
   "metadata": {},
   "source": [
    "### Pre-process Data"
   ]
  },
  {
   "cell_type": "code",
   "execution_count": 2,
   "metadata": {},
   "outputs": [],
   "source": [
    "# Regression labels\n",
    "y_r = df['target_return']\n",
    "\n",
    "# Classification labels\n",
    "y_c = df['target_return'].apply(lambda x: 1 if x > 0 else 0)\n",
    "\n",
    "# Features\n",
    "X = df.drop(['Date', 'company', 'target_return'], axis=1)"
   ]
  },
  {
   "cell_type": "code",
   "execution_count": 3,
   "metadata": {},
   "outputs": [],
   "source": [
    "# Standardize data\n",
    "scaler = StandardScaler()\n",
    "X_scaled = scaler.fit_transform(X)\n",
    "X_standardize = pd.DataFrame(X_scaled,columns=X.columns)"
   ]
  },
  {
   "cell_type": "code",
   "execution_count": 4,
   "metadata": {},
   "outputs": [],
   "source": [
    "# Regression train/test split Test Case 1\n",
    "X_train_r, X_test_r, y_train_r, y_test_r = train_test_split(X_standardize, y_r, test_size=0.3, random_state=101)\n",
    "\n",
    "# Classification train/test split Test  Case 1\n",
    "X_train_c, X_test_c, y_train_c, y_test_c = train_test_split(X_standardize, y_c, test_size=0.3, random_state=101)\n",
    "\n",
    "# Regression train/test split Test Case 2\n",
    "X_train_r2, X_test_r2, y_train_r2, y_test_r2 = train_test_split(X, y_r, test_size=0.4, random_state=100)"
   ]
  },
  {
   "cell_type": "markdown",
   "metadata": {},
   "source": [
    "## Function 1"
   ]
  },
  {
   "cell_type": "markdown",
   "metadata": {},
   "source": [
    "Write a function to return the intercept as a float (rounded to the nearest 3 integers) of a linear regression model\n",
    "\n",
    "* Given the training features (X_train) and labels (y_train)"
   ]
  },
  {
   "cell_type": "code",
   "execution_count": 5,
   "metadata": {},
   "outputs": [],
   "source": [
    "def lin_reg_intercept(X_train, y_train):\n",
    "    \n",
    "    \"Returns intercept (float) of linear regression model\"\n",
    "    \n",
    "    lnr = LinearRegression()\n",
    "    lnr.fit(X_train,y_train)\n",
    "    \n",
    "    return round(lnr.intercept_,3)"
   ]
  },
  {
   "cell_type": "code",
   "execution_count": 6,
   "metadata": {},
   "outputs": [
    {
     "data": {
      "text/plain": [
       "0.027"
      ]
     },
     "execution_count": 6,
     "metadata": {},
     "output_type": "execute_result"
    }
   ],
   "source": [
    "lin_reg_intercept(X_train_r, y_train_r)"
   ]
  },
  {
   "cell_type": "markdown",
   "metadata": {},
   "source": [
    "## Function 2"
   ]
  },
  {
   "cell_type": "markdown",
   "metadata": {},
   "source": [
    "Write a function to return the number of coefficients greater than 0 in a lasso model (as an integer)\n",
    "\n",
    "* Given the training features (X_train) and labels (y_train)\n",
    "* For a specific value of the regularisation parameter (alpha)"
   ]
  },
  {
   "cell_type": "code",
   "execution_count": 7,
   "metadata": {},
   "outputs": [],
   "source": [
    "def lasso_predictors(X_train, y_train, alpha):\n",
    "    \n",
    "    \"Returns number (integer) of coefficients in lasso model that are greater than 0\"\n",
    "    \n",
    "    lasso = Lasso(alpha)\n",
    "    lasso.fit(X_train,y_train)\n",
    "    coef = list(lasso.coef_)\n",
    "    \n",
    "    return len([c for c in coef if c > 0])"
   ]
  },
  {
   "cell_type": "code",
   "execution_count": 8,
   "metadata": {},
   "outputs": [
    {
     "data": {
      "text/plain": [
       "0"
      ]
     },
     "execution_count": 8,
     "metadata": {},
     "output_type": "execute_result"
    }
   ],
   "source": [
    "lasso_predictors(X_train_r, y_train_r, 0.01)"
   ]
  },
  {
   "cell_type": "markdown",
   "metadata": {},
   "source": [
    "## Function 3"
   ]
  },
  {
   "cell_type": "markdown",
   "metadata": {},
   "source": [
    "Write a function to return the mean squared error as a float (rounded to the nearest 3 integers) of a linear regression model \n",
    "\n",
    "* Given the training features (X_train) training labels (y_train), testing features (X_test) and testing labels (y_test)"
   ]
  },
  {
   "cell_type": "code",
   "execution_count": 9,
   "metadata": {},
   "outputs": [],
   "source": [
    "def lnr_mse(X_train, y_train, X_test, y_test):\n",
    "    \n",
    "    \"Returns the MSE (float) of a linear regression model\"\n",
    "    \n",
    "    # train\n",
    "    lnr = LinearRegression()\n",
    "    lnr.fit(X_train, y_train)\n",
    "    \n",
    "    # predict\n",
    "    pred = lnr.predict(X_test)\n",
    "    \n",
    "    return round(mean_squared_error(y_test, pred),3)"
   ]
  },
  {
   "cell_type": "code",
   "execution_count": 10,
   "metadata": {},
   "outputs": [
    {
     "data": {
      "text/plain": [
       "0.032"
      ]
     },
     "execution_count": 10,
     "metadata": {},
     "output_type": "execute_result"
    }
   ],
   "source": [
    "lnr_mse(X_train_r, y_train_r, X_test_r, y_test_r)"
   ]
  },
  {
   "cell_type": "markdown",
   "metadata": {},
   "source": [
    "## Function 4"
   ]
  },
  {
   "cell_type": "markdown",
   "metadata": {},
   "source": [
    "Write a function to return the mean absolute error as a float (rounded to the nearest 3 integers) of a ridge regression model \n",
    "\n",
    "* Given the training features (X_train), training labels (y_train), testing features (X_test) and testing labels (y_test)\n",
    "* For a specific value of the regularisation parameter (alpha)"
   ]
  },
  {
   "cell_type": "code",
   "execution_count": 11,
   "metadata": {},
   "outputs": [],
   "source": [
    "def ridge_mae(X_train, y_train, X_test, y_test, alpha):\n",
    "    \n",
    "    \"Returns the MAE (float) of the ridge regression model\"\n",
    "    \n",
    "    # train\n",
    "    ridge = Ridge(alpha)\n",
    "    ridge.fit(X_train, y_train)\n",
    "    \n",
    "    # predict\n",
    "    pred = ridge.predict(X_test)\n",
    "    \n",
    "    return round(mean_absolute_error(y_test, pred), 3)"
   ]
  },
  {
   "cell_type": "code",
   "execution_count": 12,
   "metadata": {},
   "outputs": [
    {
     "data": {
      "text/plain": [
       "0.096"
      ]
     },
     "execution_count": 12,
     "metadata": {},
     "output_type": "execute_result"
    }
   ],
   "source": [
    "ridge_mae(X_train_r, y_train_r, X_test_r, y_test_r, 1)"
   ]
  },
  {
   "cell_type": "markdown",
   "metadata": {},
   "source": [
    "## Function 5"
   ]
  },
  {
   "cell_type": "markdown",
   "metadata": {},
   "source": [
    "Write a function to return the root mean squared error as a float (rounded to the nearest 3 integers) of a linear regression model\n",
    "\n",
    "* Given the training features (X_train), training labels (y_train), testing features (X_test) and testing labels (y_test)"
   ]
  },
  {
   "cell_type": "code",
   "execution_count": 13,
   "metadata": {},
   "outputs": [],
   "source": [
    "def lnr_rmse(X_train, y_train, X_test, y_test):\n",
    "    \n",
    "    \"Returns the root mean squared error (float) of a linear regression model\"\n",
    "    \n",
    "    # train\n",
    "    lnr = LinearRegression()\n",
    "    lnr.fit(X_train, y_train)\n",
    "    \n",
    "    # predict\n",
    "    pred = lnr.predict(X_test)\n",
    "    \n",
    "    return round(np.sqrt(mean_squared_error(y_test, pred)),3)"
   ]
  },
  {
   "cell_type": "code",
   "execution_count": 14,
   "metadata": {},
   "outputs": [
    {
     "data": {
      "text/plain": [
       "1.106"
      ]
     },
     "execution_count": 14,
     "metadata": {},
     "output_type": "execute_result"
    }
   ],
   "source": [
    "lnr_rmse(X_train_c, y_train_c, X_test_c, y_test_c)"
   ]
  },
  {
   "cell_type": "markdown",
   "metadata": {},
   "source": [
    "## Function 6"
   ]
  },
  {
   "cell_type": "markdown",
   "metadata": {},
   "source": [
    "Write a function to return the highest coefficient in a logistic regression model as a float (rounded to the nearest 3 integers)\n",
    "\n",
    "* Given the training features (X_train) and labels (y_train)"
   ]
  },
  {
   "cell_type": "code",
   "execution_count": 15,
   "metadata": {},
   "outputs": [],
   "source": [
    "def highest_coef(X_train, y_train):\n",
    "    \n",
    "    \"Returns the highest coefficient in a logistic regression model as a float (rounded to the nearest 3 integers)\"\n",
    "    \n",
    "    lgr = LogisticRegression()\n",
    "    lgr.fit(X_train,y_train)\n",
    "    \n",
    "    return round(lgr.coef_.max(),3)"
   ]
  },
  {
   "cell_type": "code",
   "execution_count": 16,
   "metadata": {},
   "outputs": [
    {
     "data": {
      "text/plain": [
       "0.977"
      ]
     },
     "execution_count": 16,
     "metadata": {},
     "output_type": "execute_result"
    }
   ],
   "source": [
    "highest_coef(X_train_c, y_train_c)"
   ]
  },
  {
   "cell_type": "markdown",
   "metadata": {},
   "source": [
    "## Function 7"
   ]
  },
  {
   "cell_type": "markdown",
   "metadata": {},
   "source": [
    "Write a function to return the number of true positives (as an integer) of a logistic regression model \n",
    "\n",
    "* Given the training features (X_train), training labels (y_train), testing features (X_test) and testing labels (y_test)"
   ]
  },
  {
   "cell_type": "code",
   "execution_count": 17,
   "metadata": {},
   "outputs": [],
   "source": [
    "def log_reg_tp(X_train, y_train, X_test, y_test):\n",
    "    \n",
    "    \"Returns the number (integer) of true positives for a logistic regression model\"\n",
    "    \n",
    "    # train\n",
    "    lgr = LogisticRegression()\n",
    "    lgr.fit(X_train, y_train)\n",
    "    \n",
    "    # predict\n",
    "    pred = lgr.predict(X_test)\n",
    "    \n",
    "    return confusion_matrix(y_test, pred)[0,0]"
   ]
  },
  {
   "cell_type": "code",
   "execution_count": 18,
   "metadata": {},
   "outputs": [
    {
     "data": {
      "text/plain": [
       "16"
      ]
     },
     "execution_count": 18,
     "metadata": {},
     "output_type": "execute_result"
    }
   ],
   "source": [
    "log_reg_tp(X_train_c, y_train_c, X_test_c, y_test_c)"
   ]
  },
  {
   "cell_type": "markdown",
   "metadata": {},
   "source": [
    "## Function 8"
   ]
  },
  {
   "cell_type": "markdown",
   "metadata": {},
   "source": [
    "Write a function to return the precision as a float (rounded to the nearest 3 integers) of a logistic regression model \n",
    "\n",
    "* Given the training features (X_train), training labels (y_train), testing features (X_test) and testing labels (y_test)"
   ]
  },
  {
   "cell_type": "code",
   "execution_count": 19,
   "metadata": {},
   "outputs": [],
   "source": [
    "def lgr_precision(X_train, y_train, X_test, y_test):\n",
    "    \n",
    "    \"Returns the precision (float) for a logistic regression model\"\n",
    "    \n",
    "    # train\n",
    "    lgr = LogisticRegression()\n",
    "    lgr.fit(X_train, y_train)\n",
    "    \n",
    "    # predict\n",
    "    pred = lgr.predict(X_test)\n",
    "    \n",
    "    return round(score(y_test, pred, average='weighted')[0], 3)"
   ]
  },
  {
   "cell_type": "code",
   "execution_count": 20,
   "metadata": {},
   "outputs": [
    {
     "data": {
      "text/plain": [
       "0.608"
      ]
     },
     "execution_count": 20,
     "metadata": {},
     "output_type": "execute_result"
    }
   ],
   "source": [
    "lgr_precision(X_train_c, y_train_c, X_test_c, y_test_c)"
   ]
  },
  {
   "cell_type": "markdown",
   "metadata": {},
   "source": [
    "## Function 9"
   ]
  },
  {
   "cell_type": "markdown",
   "metadata": {},
   "source": [
    "Write a function to return the f1-score as a float (rounded to the nearest 3 integers) of a logistic regression model \n",
    "\n",
    "* Given the training features (X_train), training labels (y_train), testing features (X_test) and testing labels (y_test)"
   ]
  },
  {
   "cell_type": "code",
   "execution_count": 21,
   "metadata": {},
   "outputs": [],
   "source": [
    "def lgr_f1_score(X_train, y_train, X_test, y_test):\n",
    "    \n",
    "    \"Returns the f1-score (float) for the logistic regression model\"\n",
    "    \n",
    "    # train\n",
    "    lgr = LogisticRegression()\n",
    "    lgr.fit(X_train, y_train)\n",
    "    \n",
    "    # predict\n",
    "    pred = lgr.predict(X_test)\n",
    "    \n",
    "    return round(score(y_test, pred, average='weighted')[2], 3)"
   ]
  },
  {
   "cell_type": "code",
   "execution_count": 22,
   "metadata": {},
   "outputs": [
    {
     "data": {
      "text/plain": [
       "0.577"
      ]
     },
     "execution_count": 22,
     "metadata": {},
     "output_type": "execute_result"
    }
   ],
   "source": [
    "lgr_f1_score(X_train_c, y_train_c, X_test_c, y_test_c)"
   ]
  },
  {
   "cell_type": "markdown",
   "metadata": {},
   "source": [
    "## Function 10"
   ]
  },
  {
   "cell_type": "markdown",
   "metadata": {},
   "source": [
    "Write a function to return a specific metric (precision, recall or f1-score) as a float (rounded to the nearest 3 integers) of a logistic regression model \n",
    "\n",
    "* Given the training features (X_train), training labels (y_train), testing features (X_test) and testing labels (y_test)"
   ]
  },
  {
   "cell_type": "code",
   "execution_count": 23,
   "metadata": {},
   "outputs": [],
   "source": [
    "def lgr_metric_output(X_train, y_train, X_test, y_test, metric):\n",
    "    \n",
    "    \"Returns the chosen metric (float) for the logistic regression model\"\n",
    "    \n",
    "    # train\n",
    "    lgr = LogisticRegression()\n",
    "    lgr.fit(X_train, y_train)\n",
    "    \n",
    "    # predict\n",
    "    pred = lgr.predict(X_test)\n",
    "    \n",
    "    # metrics\n",
    "    metric_dict = {'Precision':0, 'Recall':1, 'F1_score':2}\n",
    "    \n",
    "    return round(score(y_test, pred, average='weighted')[metric_dict[metric]], 3)"
   ]
  },
  {
   "cell_type": "code",
   "execution_count": 24,
   "metadata": {},
   "outputs": [
    {
     "data": {
      "text/plain": [
       "0.608"
      ]
     },
     "execution_count": 24,
     "metadata": {},
     "output_type": "execute_result"
    }
   ],
   "source": [
    "lgr_metric_output(X_train_c, y_train_c, X_test_c, y_test_c, 'Precision')"
   ]
  },
  {
   "cell_type": "code",
   "execution_count": null,
   "metadata": {},
   "outputs": [],
   "source": []
  }
 ],
 "metadata": {
  "kernelspec": {
   "display_name": "Python 3",
   "language": "python",
   "name": "python3"
  },
  "language_info": {
   "codemirror_mode": {
    "name": "ipython",
    "version": 3
   },
   "file_extension": ".py",
   "mimetype": "text/x-python",
   "name": "python",
   "nbconvert_exporter": "python",
   "pygments_lexer": "ipython3",
   "version": "3.6.5"
  },
  "toc": {
   "base_numbering": 1,
   "nav_menu": {},
   "number_sections": true,
   "sideBar": true,
   "skip_h1_title": false,
   "title_cell": "Table of Contents",
   "title_sidebar": "Contents",
   "toc_cell": false,
   "toc_position": {},
   "toc_section_display": true,
   "toc_window_display": false
  }
 },
 "nbformat": 4,
 "nbformat_minor": 2
}
