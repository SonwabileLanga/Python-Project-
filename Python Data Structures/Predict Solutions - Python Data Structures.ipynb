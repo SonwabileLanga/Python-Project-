{
 "cells": [
  {
   "cell_type": "markdown",
   "metadata": {
    "deletable": true,
    "editable": true
   },
   "source": [
    "# Python Data Structures - Predict Solution"
   ]
  },
  {
   "cell_type": "markdown",
   "metadata": {
    "deletable": true,
    "editable": true
   },
   "source": [
    "Below is the proposed model solution for the Predict deliverable of Python Data Structures. We will start by transforming the raw data as we did in the tutorial: Manipulating Dataframes."
   ]
  },
  {
   "cell_type": "markdown",
   "metadata": {
    "deletable": true,
    "editable": true
   },
   "source": [
    "## Transform Data"
   ]
  },
  {
   "cell_type": "markdown",
   "metadata": {
    "deletable": true,
    "editable": true
   },
   "source": [
    "### Import Data"
   ]
  },
  {
   "cell_type": "code",
   "execution_count": 1,
   "metadata": {
    "collapsed": false,
    "deletable": true,
    "editable": true
   },
   "outputs": [
    {
     "name": "stderr",
     "output_type": "stream",
     "text": [
      "C:\\Users\\User\\Anaconda3\\envs\\edsa\\lib\\site-packages\\IPython\\core\\interactiveshell.py:2717: DtypeWarning: Columns (14,26) have mixed types. Specify dtype option on import or set low_memory=False.\n",
      "  interactivity=interactivity, compiler=compiler, result=result)\n"
     ]
    }
   ],
   "source": [
    "import pandas as pd\n",
    "\n",
    "# Load data - pass 'Name' as our index column\n",
    "load_df = pd.read_csv('football_players.csv', index_col='Name').sample(frac=1)\n",
    "\n",
    "# Create dataframe called df\n",
    "df = pd.DataFrame(load_df)"
   ]
  },
  {
   "cell_type": "markdown",
   "metadata": {
    "deletable": true,
    "editable": true
   },
   "source": [
    "### Create Position Type Column"
   ]
  },
  {
   "cell_type": "code",
   "execution_count": 2,
   "metadata": {
    "collapsed": true,
    "deletable": true,
    "editable": true
   },
   "outputs": [],
   "source": [
    "def position_type(s):\n",
    "    \n",
    "    \"\"\"\"This function converts the individual positions (abbreviations) and classfies it\n",
    "    as either a forward, midfielder, back or goal keeper\"\"\"\n",
    "    \n",
    "    if (s[-2] == 'T') | (s[-2] == 'W'):\n",
    "        return 'Forward'\n",
    "    elif s[-2] == 'M':\n",
    "        return 'Midfielder'\n",
    "    elif s[-2] == 'B':\n",
    "        return 'Back'\n",
    "    else:\n",
    "        return 'GoalKeeper'\n",
    "\n",
    "# Create position type column\n",
    "df['Preferred Positions Type'] = df['Preferred Positions'].apply(position_type)"
   ]
  },
  {
   "cell_type": "markdown",
   "metadata": {
    "deletable": true,
    "editable": true
   },
   "source": [
    "### Transform Attribute Columns to Floats"
   ]
  },
  {
   "cell_type": "code",
   "execution_count": 3,
   "metadata": {
    "collapsed": true,
    "deletable": true,
    "editable": true
   },
   "outputs": [],
   "source": [
    "# Select all attribute columns\n",
    "cols = ['Overall', 'Acceleration', 'Aggression',\n",
    "       'Agility', 'Balance', 'Ball control', 'Composure', 'Crossing', 'Curve',\n",
    "       'Dribbling', 'Finishing', 'Free kick accuracy', 'GK diving',\n",
    "       'GK handling', 'GK kicking', 'GK positioning', 'GK reflexes',\n",
    "       'Heading accuracy', 'Interceptions', 'Jumping', 'Long passing',\n",
    "       'Long shots', 'Marking', 'Penalties', 'Positioning', 'Reactions',\n",
    "       'Short passing', 'Shot power', 'Sliding tackle', 'Sprint speed',\n",
    "       'Stamina', 'Standing tackle', 'Strength', 'Vision', 'Volleys']\n",
    "\n",
    "def to_float(x):    \n",
    "    \"Transforms attribute columns to type float\"\n",
    "    \n",
    "    if type(x) is int:\n",
    "        return float(x)\n",
    "    else:\n",
    "        return float(x[0:2])\n",
    "\n",
    "df[cols] = df[cols].applymap(to_float)"
   ]
  },
  {
   "cell_type": "markdown",
   "metadata": {
    "deletable": true,
    "editable": true
   },
   "source": [
    "## Function 1\n",
    "\n",
    "Build an algorithm that identifies the nth ranked (rank) defender in the world - sorted by 'Overall' then 'Name' (both descending order)\n",
    "* Under a certain age (max_age)"
   ]
  },
  {
   "cell_type": "code",
   "execution_count": 4,
   "metadata": {
    "collapsed": true,
    "deletable": true,
    "editable": true
   },
   "outputs": [],
   "source": [
    "def best_defender_1(rank, max_age):\n",
    "    \n",
    "    \"Returns a string of the nth ranked defender under a certain age\"\n",
    "    \n",
    "    # create filters\n",
    "    filter_1 = df['Preferred Positions Type'] == 'Back'   \n",
    "    filter_2 = df['Age'] < max_age  \n",
    "    \n",
    "    # filter dataframe\n",
    "    defenders = df[(filter_1) & (filter_2)].reset_index() \n",
    "    \n",
    "    # return defender (as a string) sorted on 'Overall' and 'Name'\n",
    "    return defenders.sort_values(by=['Overall','Name'], ascending=False).iloc[rank-1]['Name']"
   ]
  },
  {
   "cell_type": "code",
   "execution_count": 5,
   "metadata": {
    "collapsed": false,
    "deletable": true,
    "editable": true
   },
   "outputs": [
    {
     "data": {
      "text/plain": [
       "'T. Alderweireld'"
      ]
     },
     "execution_count": 5,
     "metadata": {},
     "output_type": "execute_result"
    }
   ],
   "source": [
    "best_defender_1(10, 35)"
   ]
  },
  {
   "cell_type": "markdown",
   "metadata": {
    "deletable": true,
    "editable": true
   },
   "source": [
    "## Function 2\n",
    "\n",
    "Build an algorithm that identifies the nth ranked (rank) defender in the world - sorted by 'Overall' then 'Name' (both descending order)\n",
    "* Under a certain age (max_age)\n",
    "* Has an aggression score below a certain level (max_aggression)\n",
    "* Has a stamina score above a certain level (min_stamina)"
   ]
  },
  {
   "cell_type": "code",
   "execution_count": 6,
   "metadata": {
    "collapsed": true,
    "deletable": true,
    "editable": true
   },
   "outputs": [],
   "source": [
    "def best_defender_2(rank, max_age, max_aggression, min_stamina):\n",
    "    \n",
    "    \"Returns a string of the nth ranked defender under certain age, with a max aggression and a min stamina\"\n",
    "    \n",
    "    # create filters\n",
    "    filter_1 = df['Preferred Positions Type'] == 'Back'   \n",
    "    filter_2 = df['Age'] < max_age                       \n",
    "    filter_3 = df['Aggression'] < max_aggression          \n",
    "    filter_4 = df['Stamina'] > min_stamina \n",
    "    \n",
    "    # filter dataframe\n",
    "    defenders = df[(filter_1) & (filter_2) & (filter_3) & (filter_4)].reset_index()\n",
    "    \n",
    "    # return defender (as a string) sorted on 'Overall'\n",
    "    return defenders.sort_values(by=['Overall', 'Name'], ascending=False).iloc[rank-1]['Name']"
   ]
  },
  {
   "cell_type": "code",
   "execution_count": 7,
   "metadata": {
    "collapsed": false,
    "deletable": true,
    "editable": true
   },
   "outputs": [
    {
     "data": {
      "text/plain": [
       "'S. de Vrij'"
      ]
     },
     "execution_count": 7,
     "metadata": {},
     "output_type": "execute_result"
    }
   ],
   "source": [
    "best_defender_2(11, 35, 80, 60)"
   ]
  },
  {
   "cell_type": "markdown",
   "metadata": {
    "deletable": true,
    "editable": true
   },
   "source": [
    "## Function 3\n",
    "\n",
    "Build an algorithm that identifies the nth ranked (rank) defender in the world - sorted by 'Overall' then 'Name' (both descending order)\n",
    "* Under a certain age\n",
    "* Does not play for a certain team (team)"
   ]
  },
  {
   "cell_type": "code",
   "execution_count": 8,
   "metadata": {
    "collapsed": false,
    "deletable": true,
    "editable": true
   },
   "outputs": [],
   "source": [
    "def best_defender_3(rank, max_age, team):\n",
    "    \n",
    "    \"Returns a string of the nth ranked defender under certain age, excluding a certain country\"\n",
    "    \n",
    "    # create filters\n",
    "    filter_1 = df['Preferred Positions Type'] == 'Back'\n",
    "    filter_2 = df['Age'] < max_age\n",
    "    filter_3 = df['Nationality'] != team\n",
    "    \n",
    "    # filter dataframe\n",
    "    defenders = df[(filter_1) & (filter_2) & (filter_3)].reset_index()\n",
    "    \n",
    "    # return defender (as a string) sorted on 'Overall' and 'Name'\n",
    "    return defenders.sort_values(by=['Overall', 'Name'], ascending=False).iloc[rank-1]['Name']"
   ]
  },
  {
   "cell_type": "code",
   "execution_count": 9,
   "metadata": {
    "collapsed": false,
    "deletable": true,
    "editable": true
   },
   "outputs": [
    {
     "data": {
      "text/plain": [
       "'K. Glik'"
      ]
     },
     "execution_count": 9,
     "metadata": {},
     "output_type": "execute_result"
    }
   ],
   "source": [
    "best_defender_3(10, 30, 'Argentina')"
   ]
  },
  {
   "cell_type": "markdown",
   "metadata": {
    "deletable": true,
    "editable": true
   },
   "source": [
    "## Function 4\n",
    "\n",
    "Build an algorithm that identifies the nth ranked (rank) attacker in the world - sorted by 'Overall' then 'Name' (both descending order)\n",
    "* With specified attribute (attribute_name) above a threshold (min_attribute_score)"
   ]
  },
  {
   "cell_type": "code",
   "execution_count": 10,
   "metadata": {
    "collapsed": true,
    "deletable": true,
    "editable": true
   },
   "outputs": [],
   "source": [
    "def best_attacker_1(rank, attribute_name, min_attribute_score):\n",
    "    \n",
    "    \"Returns a string of nth ranked attacker with specified attribute above a threshold\"\n",
    "    \n",
    "    # create filters\n",
    "    filter_1 = df['Preferred Positions Type'] == 'Forward'\n",
    "    filter_2 = df[attribute_name] > min_attribute_score\n",
    "    \n",
    "    # filter dataframe\n",
    "    attackers = df[(filter_1) & (filter_2)].reset_index()\n",
    "    \n",
    "    # return attacker (as a string) sorted on 'Overall' and 'Name'\n",
    "    return attackers.sort_values(by=['Overall', 'Name'], ascending=False).iloc[rank-1]['Name']"
   ]
  },
  {
   "cell_type": "code",
   "execution_count": 11,
   "metadata": {
    "collapsed": false,
    "deletable": true,
    "editable": true
   },
   "outputs": [
    {
     "data": {
      "text/plain": [
       "'Z. Ibrahimović'"
      ]
     },
     "execution_count": 11,
     "metadata": {},
     "output_type": "execute_result"
    }
   ],
   "source": [
    "best_attacker_1(10, 'Finishing', 80)"
   ]
  },
  {
   "cell_type": "markdown",
   "metadata": {
    "deletable": true,
    "editable": true
   },
   "source": [
    "## Function 5\n",
    "\n",
    "Build an algorithm that identifies the nth ranked (rank) attacker in the world - sorted by 'Overall' then 'Name' (both descending order)\n",
    "* With average of specified attributes (attribute_1_name, attribute_2_name) above a threshold (min_attributes_ave)"
   ]
  },
  {
   "cell_type": "code",
   "execution_count": 12,
   "metadata": {
    "collapsed": true,
    "deletable": true,
    "editable": true
   },
   "outputs": [],
   "source": [
    "def best_attacker_2(rank, attribute_1_name, attribute_2_name, min_attributes_ave):\n",
    "    \n",
    "    \"Returns a string of the nth ranked attacker with average of specified attributes above a threshold\"\n",
    "    \n",
    "    # create filters\n",
    "    filter_1 = df['Preferred Positions Type'] == 'Forward'\n",
    "    df['Attributes_ave'] = (df[attribute_1_name] + df[attribute_2_name]) / 2\n",
    "    filter_2 = df['Attributes_ave'] > min_attributes_ave\n",
    "    \n",
    "    # filter dataframe\n",
    "    attackers = df[(filter_1) & (filter_2)].reset_index()\n",
    "    \n",
    "    # return attacker (as a string) sorted on 'Overall' and 'Name'\n",
    "    return attackers.sort_values(by=['Overall', 'Name'], ascending=False).iloc[rank-1]['Name']"
   ]
  },
  {
   "cell_type": "code",
   "execution_count": 13,
   "metadata": {
    "collapsed": false,
    "deletable": true,
    "editable": true
   },
   "outputs": [
    {
     "data": {
      "text/plain": [
       "'Jonas'"
      ]
     },
     "execution_count": 13,
     "metadata": {},
     "output_type": "execute_result"
    }
   ],
   "source": [
    "best_attacker_2(23, 'Finishing', 'Long shots', 80)"
   ]
  },
  {
   "cell_type": "markdown",
   "metadata": {
    "deletable": true,
    "editable": true
   },
   "source": [
    "## Function 6\n",
    "\n",
    "Build an algorithm that identifies the nth ranked (rank) attacker in the world - sorted by 'Overall' then 'Name' (both descending order)\n",
    "* With minimum of specified attributes (attribute_1_name, attribute_2_name) above a threshold (min_attributes_min)"
   ]
  },
  {
   "cell_type": "code",
   "execution_count": 14,
   "metadata": {
    "collapsed": true,
    "deletable": true,
    "editable": true
   },
   "outputs": [],
   "source": [
    "def best_attacker_3(rank, attribute_1_name, attribute_2_name, min_attributes_min):\n",
    "    \n",
    "    \"Returns a string of the nth ranked attacker with min of specified attributes above a threshold\"\n",
    "    \n",
    "    # create filters\n",
    "    filter_1 = df['Preferred Positions Type'] == 'Forward'\n",
    "    df['Attributes_min'] = df[[attribute_1_name, attribute_2_name]].min(axis=1)\n",
    "    filter_2 = df['Attributes_min'] > min_attributes_min\n",
    "    \n",
    "    # filter dataframe\n",
    "    attackers = df[(filter_1) & (filter_2)].reset_index()\n",
    "    \n",
    "    # return attacker (as a string) sorted on 'Overall' and 'Name'\n",
    "    return attackers.sort_values(by=['Overall', 'Name'], ascending=False).iloc[rank-1]['Name']"
   ]
  },
  {
   "cell_type": "code",
   "execution_count": 15,
   "metadata": {
    "collapsed": false,
    "deletable": true,
    "editable": true
   },
   "outputs": [
    {
     "data": {
      "text/plain": [
       "'Z. Ibrahimović'"
      ]
     },
     "execution_count": 15,
     "metadata": {},
     "output_type": "execute_result"
    }
   ],
   "source": [
    "best_attacker_3(10, 'Finishing', 'Long shots', 70)"
   ]
  },
  {
   "cell_type": "markdown",
   "metadata": {
    "deletable": true,
    "editable": true
   },
   "source": [
    "## Function 7\n",
    "\n",
    "Build an algorithm that identifies the best n (no_defenders) defenders - sorted by 'Overall' then 'Name' (both descending order)\n",
    "* From a certain country (country)\n",
    "* Under a certain age (max_age)"
   ]
  },
  {
   "cell_type": "code",
   "execution_count": 16,
   "metadata": {
    "collapsed": true,
    "deletable": true,
    "editable": true
   },
   "outputs": [],
   "source": [
    "def best_team_1(country, no_defenders, max_age):\n",
    "    \n",
    "    \"Returns a list of the top n defenders from specified country, under a certain age\"\n",
    "    \n",
    "    # create filters\n",
    "    filter_1 = df['Preferred Positions Type'] == 'Back'\n",
    "    filter_2 = df['Age'] < max_age\n",
    "    filter_3 = df['Nationality'] == country\n",
    "    \n",
    "    # filter dataframe\n",
    "    defenders = df[(filter_1) & (filter_2) & (filter_3)].reset_index()\n",
    "    \n",
    "    # return defenders (as a list) sorted on 'Overall' and 'Name'\n",
    "    return list(defenders.sort_values(by=['Overall', 'Name'], ascending=False).iloc[0:no_defenders]['Name'])"
   ]
  },
  {
   "cell_type": "code",
   "execution_count": 17,
   "metadata": {
    "collapsed": false,
    "deletable": true,
    "editable": true
   },
   "outputs": [
    {
     "data": {
      "text/plain": [
       "['K. Walker', 'N. Clyne', 'E. Dier']"
      ]
     },
     "execution_count": 17,
     "metadata": {},
     "output_type": "execute_result"
    }
   ],
   "source": [
    "best_team_1('England', 3, 30)"
   ]
  },
  {
   "cell_type": "markdown",
   "metadata": {
    "deletable": true,
    "editable": true
   },
   "source": [
    "## Function 8\n",
    "\n",
    "Build an algorithm that identifies the best n (no_attackers) attackers - sorted by 'Overall' then 'Name' (both descending order)\n",
    "* From a certain country (country)\n",
    "* With a specified attribute (attribute name) above a threshold (min_attribute_score)"
   ]
  },
  {
   "cell_type": "code",
   "execution_count": 18,
   "metadata": {
    "collapsed": true,
    "deletable": true,
    "editable": true
   },
   "outputs": [],
   "source": [
    "def best_team_2(country, no_attackers, attribute_name, min_attribute_score):\n",
    "    \n",
    "    \"Returns a list of the top n attackers from specified country with a specified attribute above a threshold\"\n",
    "    \n",
    "    # create filters\n",
    "    filter_1 = df['Preferred Positions Type'] == 'Forward'\n",
    "    filter_2 = df[attribute_name] > min_attribute_score\n",
    "    filter_3 = df['Nationality'] == country\n",
    "    \n",
    "    # filter dataframe\n",
    "    attackers = df[(filter_1) & (filter_2) & (filter_3)].reset_index()\n",
    "    \n",
    "    # return attackers (as a list) sorted on 'Overall' and 'Name'\n",
    "    return list(attackers.sort_values(by=['Overall', 'Name'], ascending=False).iloc[0:no_attackers]['Name'])"
   ]
  },
  {
   "cell_type": "code",
   "execution_count": 19,
   "metadata": {
    "collapsed": false,
    "deletable": true,
    "editable": true
   },
   "outputs": [
    {
     "data": {
      "text/plain": [
       "['H. Kane', 'D. Sturridge', 'J. Vardy']"
      ]
     },
     "execution_count": 19,
     "metadata": {},
     "output_type": "execute_result"
    }
   ],
   "source": [
    "best_team_2('England', 3, 'Finishing', 80)"
   ]
  },
  {
   "cell_type": "markdown",
   "metadata": {
    "deletable": true,
    "editable": true
   },
   "source": [
    "## Function 9\n",
    "\n",
    "Build an algorithm that identifies the best team based on the team structure (no_attackers, no_defenders, no_midfielders, no_goalkeepers) - sorted by 'Overall' then 'Name' (both descending order)\n",
    "* From a certain country (country)"
   ]
  },
  {
   "cell_type": "code",
   "execution_count": 20,
   "metadata": {
    "collapsed": true,
    "deletable": true,
    "editable": true
   },
   "outputs": [],
   "source": [
    "def best_team_3(country, no_attackers, no_defenders, no_midfielders, no_goalkeepers):\n",
    "    \n",
    "    \"Returns a list of the best team from a specifed country, given the playing structure\"\n",
    "    \n",
    "    # create dictionary of positions mapped to no in structure\n",
    "    positions = {'Forward':no_attackers, 'Back':no_defenders, 'Midfielder':no_midfielders, 'GoalKeeper':no_goalkeepers}\n",
    "    \n",
    "    # create empty list (to append later)\n",
    "    team = []\n",
    "    \n",
    "    # loop through keys and values to select each position structure separately\n",
    "    for k,v in positions.items():\n",
    "        filter_1 = df['Nationality'] == country \n",
    "        filter_2 = df['Preferred Positions Type'] == k\n",
    "        players = df[(filter_1) & (filter_2)].reset_index()\n",
    "        team.extend(list(players.sort_values(by=['Overall', 'Name'], ascending=False).iloc[0:v]['Name']))\n",
    "        \n",
    "    # return team (as a list)    \n",
    "    return team   "
   ]
  },
  {
   "cell_type": "code",
   "execution_count": 21,
   "metadata": {
    "collapsed": false,
    "deletable": true,
    "editable": true
   },
   "outputs": [
    {
     "data": {
      "text/plain": [
       "['Neymar',\n",
       " 'Coutinho',\n",
       " 'Willian',\n",
       " 'Thiago Silva',\n",
       " 'Marcelo',\n",
       " 'Miranda',\n",
       " 'Casemiro',\n",
       " 'Oscar',\n",
       " 'Fabinho',\n",
       " 'Taison',\n",
       " 'Ederson']"
      ]
     },
     "execution_count": 21,
     "metadata": {},
     "output_type": "execute_result"
    }
   ],
   "source": [
    "best_team_3('Brazil', 3, 3, 4, 1)"
   ]
  }
 ],
 "metadata": {
  "kernelspec": {
   "display_name": "Python 3",
   "language": "python",
   "name": "python3"
  },
  "language_info": {
   "codemirror_mode": {
    "name": "ipython",
    "version": 3
   },
   "file_extension": ".py",
   "mimetype": "text/x-python",
   "name": "python",
   "nbconvert_exporter": "python",
   "pygments_lexer": "ipython3",
   "version": "3.6.0"
  }
 },
 "nbformat": 4,
 "nbformat_minor": 2
}
